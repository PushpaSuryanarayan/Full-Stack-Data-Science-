{
 "cells": [
  {
   "cell_type": "markdown",
   "id": "d4220bf6",
   "metadata": {},
   "source": [
    "# Tuple"
   ]
  },
  {
   "cell_type": "code",
   "execution_count": 3,
   "id": "7d33c8e5",
   "metadata": {},
   "outputs": [],
   "source": [
    "t =('push',1,2, 3.6j,7.8, True)"
   ]
  },
  {
   "cell_type": "code",
   "execution_count": 2,
   "id": "11d3838c",
   "metadata": {},
   "outputs": [
    {
     "data": {
      "text/plain": [
       "tuple"
      ]
     },
     "execution_count": 2,
     "metadata": {},
     "output_type": "execute_result"
    }
   ],
   "source": [
    "type(t)"
   ]
  },
  {
   "cell_type": "code",
   "execution_count": 2,
   "id": "6e8a81f0",
   "metadata": {},
   "outputs": [],
   "source": [
    "t1 = (3,4,5.6,('k', 'j'))"
   ]
  },
  {
   "cell_type": "code",
   "execution_count": 5,
   "id": "dabf94cd",
   "metadata": {},
   "outputs": [
    {
     "data": {
      "text/plain": [
       "(3, 4, 5.6, ('k', 'j'))"
      ]
     },
     "execution_count": 5,
     "metadata": {},
     "output_type": "execute_result"
    }
   ],
   "source": [
    "t1"
   ]
  },
  {
   "cell_type": "code",
   "execution_count": 7,
   "id": "aaa84dde",
   "metadata": {},
   "outputs": [
    {
     "data": {
      "text/plain": [
       "(3, 4)"
      ]
     },
     "execution_count": 7,
     "metadata": {},
     "output_type": "execute_result"
    }
   ],
   "source": [
    "t1[0:2]"
   ]
  },
  {
   "cell_type": "code",
   "execution_count": 8,
   "id": "196728ae",
   "metadata": {},
   "outputs": [
    {
     "data": {
      "text/plain": [
       "(('k', 'j'), 5.6, 4, 3)"
      ]
     },
     "execution_count": 8,
     "metadata": {},
     "output_type": "execute_result"
    }
   ],
   "source": [
    "t1[::-1]"
   ]
  },
  {
   "cell_type": "code",
   "execution_count": 3,
   "id": "9f6c10f4",
   "metadata": {},
   "outputs": [
    {
     "data": {
      "text/plain": [
       "(3, 4, 5.6, ('k', 'j'))"
      ]
     },
     "execution_count": 3,
     "metadata": {},
     "output_type": "execute_result"
    }
   ],
   "source": [
    "t1"
   ]
  },
  {
   "cell_type": "code",
   "execution_count": 4,
   "id": "5b0b227c",
   "metadata": {},
   "outputs": [
    {
     "data": {
      "text/plain": [
       "(3, 5.6)"
      ]
     },
     "execution_count": 4,
     "metadata": {},
     "output_type": "execute_result"
    }
   ],
   "source": [
    "t1[0::2]"
   ]
  },
  {
   "cell_type": "code",
   "execution_count": 5,
   "id": "145adf01",
   "metadata": {},
   "outputs": [
    {
     "data": {
      "text/plain": [
       "'j'"
      ]
     },
     "execution_count": 5,
     "metadata": {},
     "output_type": "execute_result"
    }
   ],
   "source": [
    "t1[3][1]"
   ]
  },
  {
   "cell_type": "code",
   "execution_count": 6,
   "id": "e5405c99",
   "metadata": {},
   "outputs": [],
   "source": [
    "l = ['sudh', 345, 6.7j]"
   ]
  },
  {
   "cell_type": "code",
   "execution_count": 7,
   "id": "caf3ccd4",
   "metadata": {},
   "outputs": [
    {
     "data": {
      "text/plain": [
       "'sudh'"
      ]
     },
     "execution_count": 7,
     "metadata": {},
     "output_type": "execute_result"
    }
   ],
   "source": [
    "l[0]"
   ]
  },
  {
   "cell_type": "code",
   "execution_count": 8,
   "id": "a84c43f1",
   "metadata": {},
   "outputs": [],
   "source": [
    "l[0] = 'kumar'"
   ]
  },
  {
   "cell_type": "code",
   "execution_count": 10,
   "id": "53f343c4",
   "metadata": {},
   "outputs": [
    {
     "data": {
      "text/plain": [
       "['kumar', 345, 6.7j]"
      ]
     },
     "execution_count": 10,
     "metadata": {},
     "output_type": "execute_result"
    }
   ],
   "source": [
    "l"
   ]
  },
  {
   "cell_type": "code",
   "execution_count": 11,
   "id": "dd7c0544",
   "metadata": {},
   "outputs": [
    {
     "data": {
      "text/plain": [
       "5.6"
      ]
     },
     "execution_count": 11,
     "metadata": {},
     "output_type": "execute_result"
    }
   ],
   "source": [
    "t1[2]"
   ]
  },
  {
   "cell_type": "code",
   "execution_count": 12,
   "id": "1f9054b8",
   "metadata": {},
   "outputs": [
    {
     "ename": "TypeError",
     "evalue": "'tuple' object does not support item assignment",
     "output_type": "error",
     "traceback": [
      "\u001b[1;31m---------------------------------------------------------------------------\u001b[0m",
      "\u001b[1;31mTypeError\u001b[0m                                 Traceback (most recent call last)",
      "\u001b[1;32mC:\\Users\\PD1D7~1.SUR\\AppData\\Local\\Temp/ipykernel_20688/396037084.py\u001b[0m in \u001b[0;36m<module>\u001b[1;34m\u001b[0m\n\u001b[1;32m----> 1\u001b[1;33m \u001b[0mt1\u001b[0m\u001b[1;33m[\u001b[0m\u001b[1;36m2\u001b[0m\u001b[1;33m]\u001b[0m \u001b[1;33m=\u001b[0m \u001b[1;36m4\u001b[0m\u001b[1;33m\u001b[0m\u001b[1;33m\u001b[0m\u001b[0m\n\u001b[0m",
      "\u001b[1;31mTypeError\u001b[0m: 'tuple' object does not support item assignment"
     ]
    }
   ],
   "source": [
    "t1[2] = 4                                                 #immutability"
   ]
  },
  {
   "cell_type": "code",
   "execution_count": 13,
   "id": "4132d6d6",
   "metadata": {},
   "outputs": [],
   "source": [
    "s = 'sudh'"
   ]
  },
  {
   "cell_type": "code",
   "execution_count": 14,
   "id": "4f4f717b",
   "metadata": {},
   "outputs": [
    {
     "data": {
      "text/plain": [
       "'s'"
      ]
     },
     "execution_count": 14,
     "metadata": {},
     "output_type": "execute_result"
    }
   ],
   "source": [
    "s[0]"
   ]
  },
  {
   "cell_type": "code",
   "execution_count": 16,
   "id": "1d685a5f",
   "metadata": {},
   "outputs": [
    {
     "ename": "TypeError",
     "evalue": "'str' object does not support item assignment",
     "output_type": "error",
     "traceback": [
      "\u001b[1;31m---------------------------------------------------------------------------\u001b[0m",
      "\u001b[1;31mTypeError\u001b[0m                                 Traceback (most recent call last)",
      "\u001b[1;32mC:\\Users\\PD1D7~1.SUR\\AppData\\Local\\Temp/ipykernel_20688/1477171766.py\u001b[0m in \u001b[0;36m<module>\u001b[1;34m\u001b[0m\n\u001b[1;32m----> 1\u001b[1;33m \u001b[0ms\u001b[0m\u001b[1;33m[\u001b[0m\u001b[1;36m0\u001b[0m\u001b[1;33m]\u001b[0m \u001b[1;33m=\u001b[0m \u001b[1;34m'p'\u001b[0m\u001b[1;33m\u001b[0m\u001b[1;33m\u001b[0m\u001b[0m\n\u001b[0m",
      "\u001b[1;31mTypeError\u001b[0m: 'str' object does not support item assignment"
     ]
    }
   ],
   "source": [
    "s[0] = 'p'"
   ]
  },
  {
   "cell_type": "code",
   "execution_count": 17,
   "id": "ab350103",
   "metadata": {},
   "outputs": [
    {
     "data": {
      "text/plain": [
       "(3, 4, 5.6, ('k', 'j'))"
      ]
     },
     "execution_count": 17,
     "metadata": {},
     "output_type": "execute_result"
    }
   ],
   "source": [
    "t1"
   ]
  },
  {
   "cell_type": "code",
   "execution_count": 18,
   "id": "0694b2ae",
   "metadata": {},
   "outputs": [],
   "source": [
    "t2 = (34,56,78,90)"
   ]
  },
  {
   "cell_type": "code",
   "execution_count": 19,
   "id": "fcfb9930",
   "metadata": {},
   "outputs": [
    {
     "data": {
      "text/plain": [
       "(3, 4, 5.6, ('k', 'j'), 34, 56, 78, 90)"
      ]
     },
     "execution_count": 19,
     "metadata": {},
     "output_type": "execute_result"
    }
   ],
   "source": [
    "t1 + t2"
   ]
  },
  {
   "cell_type": "code",
   "execution_count": 20,
   "id": "c33de18f",
   "metadata": {},
   "outputs": [
    {
     "data": {
      "text/plain": [
       "(3, 4, 5.6, ('k', 'j'), 3, 4, 5.6, ('k', 'j'))"
      ]
     },
     "execution_count": 20,
     "metadata": {},
     "output_type": "execute_result"
    }
   ],
   "source": [
    "t1*2"
   ]
  },
  {
   "cell_type": "code",
   "execution_count": 24,
   "id": "b4af0f2f",
   "metadata": {},
   "outputs": [
    {
     "data": {
      "text/plain": [
       "1"
      ]
     },
     "execution_count": 24,
     "metadata": {},
     "output_type": "execute_result"
    }
   ],
   "source": [
    "t1.count(4)"
   ]
  },
  {
   "cell_type": "code",
   "execution_count": 25,
   "id": "1d3b6976",
   "metadata": {},
   "outputs": [
    {
     "data": {
      "text/plain": [
       "0"
      ]
     },
     "execution_count": 25,
     "metadata": {},
     "output_type": "execute_result"
    }
   ],
   "source": [
    "t1.index(3)"
   ]
  },
  {
   "cell_type": "code",
   "execution_count": 26,
   "id": "3413d31c",
   "metadata": {},
   "outputs": [],
   "source": [
    "t3 = ((45,56,7,6j),(5.6,'push'),'this is a tuple')                                      # nested tuple"
   ]
  },
  {
   "cell_type": "code",
   "execution_count": 33,
   "id": "a9fbcbc1",
   "metadata": {},
   "outputs": [],
   "source": [
    "t4 = ([1,2,3,'LIST1'],('gh',3.4j,5.9),'list inside a tuple')"
   ]
  },
  {
   "cell_type": "code",
   "execution_count": 34,
   "id": "7096d11e",
   "metadata": {},
   "outputs": [
    {
     "data": {
      "text/plain": [
       "([1, 2, 3, 'LIST1'], ('gh', 3.4j, 5.9), 'list inside a tuple')"
      ]
     },
     "execution_count": 34,
     "metadata": {},
     "output_type": "execute_result"
    }
   ],
   "source": [
    "t4"
   ]
  },
  {
   "cell_type": "code",
   "execution_count": 35,
   "id": "a5735f25",
   "metadata": {},
   "outputs": [],
   "source": [
    "t4[0][2] = 'push'"
   ]
  },
  {
   "cell_type": "code",
   "execution_count": 36,
   "id": "5fe0300c",
   "metadata": {},
   "outputs": [
    {
     "data": {
      "text/plain": [
       "([1, 2, 'push', 'LIST1'], ('gh', 3.4j, 5.9), 'list inside a tuple')"
      ]
     },
     "execution_count": 36,
     "metadata": {},
     "output_type": "execute_result"
    }
   ],
   "source": [
    "t4"
   ]
  },
  {
   "cell_type": "code",
   "execution_count": 32,
   "id": "1b81f9bf",
   "metadata": {},
   "outputs": [
    {
     "ename": "TypeError",
     "evalue": "'tuple' object does not support item assignment",
     "output_type": "error",
     "traceback": [
      "\u001b[1;31m---------------------------------------------------------------------------\u001b[0m",
      "\u001b[1;31mTypeError\u001b[0m                                 Traceback (most recent call last)",
      "\u001b[1;32mC:\\Users\\PD1D7~1.SUR\\AppData\\Local\\Temp/ipykernel_20688/834420069.py\u001b[0m in \u001b[0;36m<module>\u001b[1;34m\u001b[0m\n\u001b[1;32m----> 1\u001b[1;33m \u001b[0mt4\u001b[0m\u001b[1;33m[\u001b[0m\u001b[1;36m2\u001b[0m\u001b[1;33m]\u001b[0m \u001b[1;33m=\u001b[0m\u001b[1;34m\"lets see if we can change this\"\u001b[0m\u001b[1;33m\u001b[0m\u001b[1;33m\u001b[0m\u001b[0m\n\u001b[0m",
      "\u001b[1;31mTypeError\u001b[0m: 'tuple' object does not support item assignment"
     ]
    }
   ],
   "source": [
    "t4[2] =\"lets see if we can change this\""
   ]
  },
  {
   "cell_type": "code",
   "execution_count": 37,
   "id": "df9b8780",
   "metadata": {},
   "outputs": [
    {
     "ename": "TypeError",
     "evalue": "'tuple' object does not support item assignment",
     "output_type": "error",
     "traceback": [
      "\u001b[1;31m---------------------------------------------------------------------------\u001b[0m",
      "\u001b[1;31mTypeError\u001b[0m                                 Traceback (most recent call last)",
      "\u001b[1;32mC:\\Users\\PD1D7~1.SUR\\AppData\\Local\\Temp/ipykernel_20688/1004711107.py\u001b[0m in \u001b[0;36m<module>\u001b[1;34m\u001b[0m\n\u001b[1;32m----> 1\u001b[1;33m \u001b[0mt4\u001b[0m\u001b[1;33m[\u001b[0m\u001b[1;36m1\u001b[0m\u001b[1;33m]\u001b[0m\u001b[1;33m[\u001b[0m\u001b[1;36m0\u001b[0m\u001b[1;33m]\u001b[0m \u001b[1;33m=\u001b[0m \u001b[1;36m4\u001b[0m\u001b[1;33m\u001b[0m\u001b[1;33m\u001b[0m\u001b[0m\n\u001b[0m",
      "\u001b[1;31mTypeError\u001b[0m: 'tuple' object does not support item assignment"
     ]
    }
   ],
   "source": [
    "t4[1][0] = 4"
   ]
  },
  {
   "cell_type": "code",
   "execution_count": 38,
   "id": "bfc18e45",
   "metadata": {},
   "outputs": [
    {
     "ename": "TypeError",
     "evalue": "'tuple' object does not support item assignment",
     "output_type": "error",
     "traceback": [
      "\u001b[1;31m---------------------------------------------------------------------------\u001b[0m",
      "\u001b[1;31mTypeError\u001b[0m                                 Traceback (most recent call last)",
      "\u001b[1;32mC:\\Users\\PD1D7~1.SUR\\AppData\\Local\\Temp/ipykernel_20688/3422001645.py\u001b[0m in \u001b[0;36m<module>\u001b[1;34m\u001b[0m\n\u001b[1;32m----> 1\u001b[1;33m \u001b[0mt4\u001b[0m\u001b[1;33m[\u001b[0m\u001b[1;36m0\u001b[0m\u001b[1;33m]\u001b[0m \u001b[1;33m=\u001b[0m \u001b[1;34m'its not possible to change the index in tuple '\u001b[0m\u001b[1;33m\u001b[0m\u001b[1;33m\u001b[0m\u001b[0m\n\u001b[0m",
      "\u001b[1;31mTypeError\u001b[0m: 'tuple' object does not support item assignment"
     ]
    }
   ],
   "source": [
    "t4[0] = 'its not possible to change the index in tuple '"
   ]
  },
  {
   "cell_type": "code",
   "execution_count": 39,
   "id": "67c4273e",
   "metadata": {},
   "outputs": [],
   "source": [
    "t5 = (1,2,34,5)"
   ]
  },
  {
   "cell_type": "code",
   "execution_count": 40,
   "id": "895426c4",
   "metadata": {},
   "outputs": [],
   "source": [
    "l=list(t5)"
   ]
  },
  {
   "cell_type": "code",
   "execution_count": 41,
   "id": "0f32b084",
   "metadata": {},
   "outputs": [
    {
     "data": {
      "text/plain": [
       "[1, 2, 34, 5]"
      ]
     },
     "execution_count": 41,
     "metadata": {},
     "output_type": "execute_result"
    }
   ],
   "source": [
    "l"
   ]
  },
  {
   "cell_type": "code",
   "execution_count": 42,
   "id": "afb9b488",
   "metadata": {},
   "outputs": [
    {
     "data": {
      "text/plain": [
       "(1, 2, 34, 5)"
      ]
     },
     "execution_count": 42,
     "metadata": {},
     "output_type": "execute_result"
    }
   ],
   "source": [
    "tuple(l)"
   ]
  },
  {
   "cell_type": "code",
   "execution_count": 43,
   "id": "0d3af4ae",
   "metadata": {},
   "outputs": [
    {
     "data": {
      "text/plain": [
       "list"
      ]
     },
     "execution_count": 43,
     "metadata": {},
     "output_type": "execute_result"
    }
   ],
   "source": [
    "type(l)"
   ]
  },
  {
   "cell_type": "markdown",
   "id": "4140e392",
   "metadata": {},
   "source": [
    "# Set"
   ]
  },
  {
   "cell_type": "code",
   "execution_count": 44,
   "id": "43675055",
   "metadata": {},
   "outputs": [],
   "source": [
    "l = [1,2,3,4,5,5,5,5,6,5,4,3,2,2]"
   ]
  },
  {
   "cell_type": "code",
   "execution_count": 46,
   "id": "f34e1cf7",
   "metadata": {},
   "outputs": [
    {
     "data": {
      "text/plain": [
       "{1, 2, 3, 4, 5, 6}"
      ]
     },
     "execution_count": 46,
     "metadata": {},
     "output_type": "execute_result"
    }
   ],
   "source": [
    "set(l)                                                    #set builds an unordered collectionn of unique elements "
   ]
  },
  {
   "cell_type": "code",
   "execution_count": 47,
   "id": "65ff5ddf",
   "metadata": {},
   "outputs": [],
   "source": [
    "s ={}"
   ]
  },
  {
   "cell_type": "code",
   "execution_count": 48,
   "id": "3ed29113",
   "metadata": {},
   "outputs": [
    {
     "data": {
      "text/plain": [
       "dict"
      ]
     },
     "execution_count": 48,
     "metadata": {},
     "output_type": "execute_result"
    }
   ],
   "source": [
    "type(s)"
   ]
  },
  {
   "cell_type": "code",
   "execution_count": 49,
   "id": "76a82087",
   "metadata": {},
   "outputs": [],
   "source": [
    "s1 = {1,2}"
   ]
  },
  {
   "cell_type": "code",
   "execution_count": 50,
   "id": "4415c180",
   "metadata": {},
   "outputs": [
    {
     "data": {
      "text/plain": [
       "set"
      ]
     },
     "execution_count": 50,
     "metadata": {},
     "output_type": "execute_result"
    }
   ],
   "source": [
    "type(s1)"
   ]
  },
  {
   "cell_type": "code",
   "execution_count": 51,
   "id": "33754ba1",
   "metadata": {},
   "outputs": [],
   "source": [
    "s2 = {1,1,1,1,2,2,2,3,3,34,44,4,4,4,5,6,7,7,7}"
   ]
  },
  {
   "cell_type": "code",
   "execution_count": 52,
   "id": "3ee0803a",
   "metadata": {},
   "outputs": [
    {
     "data": {
      "text/plain": [
       "{1, 2, 3, 4, 5, 6, 7, 34, 44}"
      ]
     },
     "execution_count": 52,
     "metadata": {},
     "output_type": "execute_result"
    }
   ],
   "source": [
    "s2"
   ]
  },
  {
   "cell_type": "code",
   "execution_count": 54,
   "id": "9966e8ce",
   "metadata": {},
   "outputs": [
    {
     "ename": "TypeError",
     "evalue": "'set' object is not subscriptable",
     "output_type": "error",
     "traceback": [
      "\u001b[1;31m---------------------------------------------------------------------------\u001b[0m",
      "\u001b[1;31mTypeError\u001b[0m                                 Traceback (most recent call last)",
      "\u001b[1;32mC:\\Users\\PD1D7~1.SUR\\AppData\\Local\\Temp/ipykernel_20688/2344841457.py\u001b[0m in \u001b[0;36m<module>\u001b[1;34m\u001b[0m\n\u001b[1;32m----> 1\u001b[1;33m \u001b[0ms2\u001b[0m\u001b[1;33m[\u001b[0m\u001b[1;36m0\u001b[0m\u001b[1;33m]\u001b[0m\u001b[1;33m\u001b[0m\u001b[1;33m\u001b[0m\u001b[0m\n\u001b[0m",
      "\u001b[1;31mTypeError\u001b[0m: 'set' object is not subscriptable"
     ]
    }
   ],
   "source": [
    "s2[0]"
   ]
  },
  {
   "cell_type": "code",
   "execution_count": 57,
   "id": "c0e4f841",
   "metadata": {},
   "outputs": [],
   "source": [
    "l1=list(s2)"
   ]
  },
  {
   "cell_type": "code",
   "execution_count": 58,
   "id": "65b75ee6",
   "metadata": {},
   "outputs": [
    {
     "data": {
      "text/plain": [
       "[1, 2, 3, 34, 4, 5, 6, 7, 44]"
      ]
     },
     "execution_count": 58,
     "metadata": {},
     "output_type": "execute_result"
    }
   ],
   "source": [
    "l1"
   ]
  },
  {
   "cell_type": "code",
   "execution_count": 61,
   "id": "9d7465d2",
   "metadata": {},
   "outputs": [
    {
     "data": {
      "text/plain": [
       "1"
      ]
     },
     "execution_count": 61,
     "metadata": {},
     "output_type": "execute_result"
    }
   ],
   "source": [
    "l1[0]"
   ]
  },
  {
   "cell_type": "code",
   "execution_count": 62,
   "id": "005c05dd",
   "metadata": {},
   "outputs": [],
   "source": [
    "s2.add(9.0)"
   ]
  },
  {
   "cell_type": "code",
   "execution_count": 63,
   "id": "6b1ab7f8",
   "metadata": {},
   "outputs": [
    {
     "data": {
      "text/plain": [
       "{1, 2, 3, 4, 5, 6, 7, 9.0, 34, 44}"
      ]
     },
     "execution_count": 63,
     "metadata": {},
     "output_type": "execute_result"
    }
   ],
   "source": [
    "s2"
   ]
  },
  {
   "cell_type": "code",
   "execution_count": 64,
   "id": "f1af7055",
   "metadata": {},
   "outputs": [],
   "source": [
    "s2.add(\"sudh\")"
   ]
  },
  {
   "cell_type": "code",
   "execution_count": 65,
   "id": "a4b5c9cd",
   "metadata": {},
   "outputs": [
    {
     "data": {
      "text/plain": [
       "{1, 2, 3, 34, 4, 44, 5, 6, 7, 9.0, 'sudh'}"
      ]
     },
     "execution_count": 65,
     "metadata": {},
     "output_type": "execute_result"
    }
   ],
   "source": [
    "s2"
   ]
  },
  {
   "cell_type": "code",
   "execution_count": 66,
   "id": "10196588",
   "metadata": {},
   "outputs": [
    {
     "ename": "TypeError",
     "evalue": "unhashable type: 'list'",
     "output_type": "error",
     "traceback": [
      "\u001b[1;31m---------------------------------------------------------------------------\u001b[0m",
      "\u001b[1;31mTypeError\u001b[0m                                 Traceback (most recent call last)",
      "\u001b[1;32mC:\\Users\\PD1D7~1.SUR\\AppData\\Local\\Temp/ipykernel_20688/1495008430.py\u001b[0m in \u001b[0;36m<module>\u001b[1;34m\u001b[0m\n\u001b[1;32m----> 1\u001b[1;33m \u001b[0ms2\u001b[0m\u001b[1;33m.\u001b[0m\u001b[0madd\u001b[0m\u001b[1;33m(\u001b[0m\u001b[1;33m[\u001b[0m\u001b[1;36m1\u001b[0m\u001b[1;33m,\u001b[0m\u001b[1;36m2\u001b[0m\u001b[1;33m,\u001b[0m\u001b[1;34m'l'\u001b[0m\u001b[1;33m]\u001b[0m\u001b[1;33m)\u001b[0m\u001b[1;33m\u001b[0m\u001b[1;33m\u001b[0m\u001b[0m\n\u001b[0m",
      "\u001b[1;31mTypeError\u001b[0m: unhashable type: 'list'"
     ]
    }
   ],
   "source": [
    "s2.add([1,2,'l'])                                               #allows only primitive elements but not ordered collection "
   ]
  },
  {
   "cell_type": "code",
   "execution_count": 67,
   "id": "623643f1",
   "metadata": {},
   "outputs": [],
   "source": [
    "s2.add((1,2,'l'))"
   ]
  },
  {
   "cell_type": "code",
   "execution_count": 68,
   "id": "183fcff9",
   "metadata": {},
   "outputs": [
    {
     "data": {
      "text/plain": [
       "{(1, 2, 'l'), 1, 2, 3, 34, 4, 44, 5, 6, 7, 9.0, 'sudh'}"
      ]
     },
     "execution_count": 68,
     "metadata": {},
     "output_type": "execute_result"
    }
   ],
   "source": [
    "s2                                                              #it allows because of the same property which is immutability "
   ]
  },
  {
   "cell_type": "code",
   "execution_count": 69,
   "id": "fe100131",
   "metadata": {},
   "outputs": [],
   "source": [
    "s2.remove(4)"
   ]
  },
  {
   "cell_type": "code",
   "execution_count": 70,
   "id": "1463752d",
   "metadata": {},
   "outputs": [
    {
     "data": {
      "text/plain": [
       "{(1, 2, 'l'), 1, 2, 3, 34, 44, 5, 6, 7, 9.0, 'sudh'}"
      ]
     },
     "execution_count": 70,
     "metadata": {},
     "output_type": "execute_result"
    }
   ],
   "source": [
    "s2"
   ]
  },
  {
   "cell_type": "code",
   "execution_count": 71,
   "id": "d5363ee4",
   "metadata": {},
   "outputs": [],
   "source": [
    "s2.remove(2)"
   ]
  },
  {
   "cell_type": "code",
   "execution_count": 72,
   "id": "76772fd3",
   "metadata": {},
   "outputs": [
    {
     "data": {
      "text/plain": [
       "{(1, 2, 'l'), 1, 3, 34, 44, 5, 6, 7, 9.0, 'sudh'}"
      ]
     },
     "execution_count": 72,
     "metadata": {},
     "output_type": "execute_result"
    }
   ],
   "source": [
    "s2"
   ]
  },
  {
   "cell_type": "code",
   "execution_count": 73,
   "id": "3659083d",
   "metadata": {},
   "outputs": [],
   "source": [
    "s2.discard(1)"
   ]
  },
  {
   "cell_type": "code",
   "execution_count": 74,
   "id": "9f4d8a69",
   "metadata": {},
   "outputs": [
    {
     "data": {
      "text/plain": [
       "{(1, 2, 'l'), 3, 34, 44, 5, 6, 7, 9.0, 'sudh'}"
      ]
     },
     "execution_count": 74,
     "metadata": {},
     "output_type": "execute_result"
    }
   ],
   "source": [
    "s2"
   ]
  },
  {
   "cell_type": "code",
   "execution_count": 76,
   "id": "9905b6c2",
   "metadata": {},
   "outputs": [
    {
     "ename": "KeyError",
     "evalue": "45",
     "output_type": "error",
     "traceback": [
      "\u001b[1;31m---------------------------------------------------------------------------\u001b[0m",
      "\u001b[1;31mKeyError\u001b[0m                                  Traceback (most recent call last)",
      "\u001b[1;32mC:\\Users\\PD1D7~1.SUR\\AppData\\Local\\Temp/ipykernel_20688/527608268.py\u001b[0m in \u001b[0;36m<module>\u001b[1;34m\u001b[0m\n\u001b[1;32m----> 1\u001b[1;33m \u001b[0ms2\u001b[0m\u001b[1;33m.\u001b[0m\u001b[0mremove\u001b[0m\u001b[1;33m(\u001b[0m\u001b[1;36m45\u001b[0m\u001b[1;33m)\u001b[0m\u001b[1;33m\u001b[0m\u001b[1;33m\u001b[0m\u001b[0m\n\u001b[0m",
      "\u001b[1;31mKeyError\u001b[0m: 45"
     ]
    }
   ],
   "source": [
    "s2.remove(45)"
   ]
  },
  {
   "cell_type": "code",
   "execution_count": 77,
   "id": "99e46eb3",
   "metadata": {},
   "outputs": [],
   "source": [
    "s2.discard(45)"
   ]
  },
  {
   "cell_type": "code",
   "execution_count": 78,
   "id": "c95b4e50",
   "metadata": {},
   "outputs": [
    {
     "data": {
      "text/plain": [
       "{(1, 2, 'l'), 3, 34, 44, 5, 6, 7, 9.0, 'sudh'}"
      ]
     },
     "execution_count": 78,
     "metadata": {},
     "output_type": "execute_result"
    }
   ],
   "source": [
    "s2"
   ]
  },
  {
   "cell_type": "code",
   "execution_count": 79,
   "id": "8fd940a4",
   "metadata": {},
   "outputs": [
    {
     "data": {
      "text/plain": [
       "{'Sudh', 'sudh'}"
      ]
     },
     "execution_count": 79,
     "metadata": {},
     "output_type": "execute_result"
    }
   ],
   "source": [
    "{\"sudh\",\"Sudh\"}"
   ]
  },
  {
   "cell_type": "markdown",
   "id": "4bff21d1",
   "metadata": {},
   "source": [
    "# Dictionary "
   ]
  },
  {
   "cell_type": "code",
   "execution_count": 80,
   "id": "d28ec45b",
   "metadata": {},
   "outputs": [],
   "source": [
    "d = {4:'sudh'}"
   ]
  },
  {
   "cell_type": "code",
   "execution_count": 82,
   "id": "0d5d369a",
   "metadata": {},
   "outputs": [],
   "source": [
    "d1 ={\"key1\":5445 , \"key2\": \"sudh\", 45: [3,4,5,6]}"
   ]
  },
  {
   "cell_type": "code",
   "execution_count": 83,
   "id": "74d8784e",
   "metadata": {},
   "outputs": [
    {
     "data": {
      "text/plain": [
       "{'key1': 5445, 'key2': 'sudh', 45: [3, 4, 5, 6]}"
      ]
     },
     "execution_count": 83,
     "metadata": {},
     "output_type": "execute_result"
    }
   ],
   "source": [
    "d1"
   ]
  },
  {
   "cell_type": "code",
   "execution_count": 86,
   "id": "811bf004",
   "metadata": {},
   "outputs": [
    {
     "data": {
      "text/plain": [
       "5445"
      ]
     },
     "execution_count": 86,
     "metadata": {},
     "output_type": "execute_result"
    }
   ],
   "source": [
    "d1['key1']"
   ]
  },
  {
   "cell_type": "code",
   "execution_count": 88,
   "id": "84f57159",
   "metadata": {},
   "outputs": [
    {
     "data": {
      "text/plain": [
       "5"
      ]
     },
     "execution_count": 88,
     "metadata": {},
     "output_type": "execute_result"
    }
   ],
   "source": [
    "d1[45][2]"
   ]
  },
  {
   "cell_type": "code",
   "execution_count": 89,
   "id": "32ce91a8",
   "metadata": {},
   "outputs": [
    {
     "ename": "SyntaxError",
     "evalue": "unexpected EOF while parsing (Temp/ipykernel_20688/3693537296.py, line 1)",
     "output_type": "error",
     "traceback": [
      "\u001b[1;36m  File \u001b[1;32m\"C:\\Users\\PD1D7~1.SUR\\AppData\\Local\\Temp/ipykernel_20688/3693537296.py\"\u001b[1;36m, line \u001b[1;32m1\u001b[0m\n\u001b[1;33m    d = {#:[\"dsfa\",3,4,56]}\u001b[0m\n\u001b[1;37m                           ^\u001b[0m\n\u001b[1;31mSyntaxError\u001b[0m\u001b[1;31m:\u001b[0m unexpected EOF while parsing\n"
     ]
    }
   ],
   "source": [
    "d = {#:[\"dsfa\",3,4,56]}                                                         #special characters are not allowed as key "
   ]
  },
  {
   "cell_type": "code",
   "execution_count": 90,
   "id": "42f82b9e",
   "metadata": {},
   "outputs": [],
   "source": [
    "d = {.4:[\"dsfa\",3,4,56]}                                                  # .4 is nothing but 0.4 so it works "
   ]
  },
  {
   "cell_type": "code",
   "execution_count": 91,
   "id": "611a7fcc",
   "metadata": {},
   "outputs": [],
   "source": [
    "d = {\"key\":{3,4,5,6}}                                        #just like list and tuples, sets can also be stored in dictionary "
   ]
  },
  {
   "cell_type": "code",
   "execution_count": 93,
   "id": "b932203d",
   "metadata": {},
   "outputs": [],
   "source": [
    "d2 = {\"key1\": [2,3,4,5], \"key2\":\"sudh\", \"key1\":45}"
   ]
  },
  {
   "cell_type": "code",
   "execution_count": 94,
   "id": "f5252183",
   "metadata": {},
   "outputs": [
    {
     "data": {
      "text/plain": [
       "45"
      ]
     },
     "execution_count": 94,
     "metadata": {},
     "output_type": "execute_result"
    }
   ],
   "source": [
    "d2[\"key1\"]"
   ]
  },
  {
   "cell_type": "code",
   "execution_count": 97,
   "id": "79ef1e41",
   "metadata": {},
   "outputs": [],
   "source": [
    "d3 = d2 = {\"key1\": [2,3,4,5], \"key2\":[2,3,4,5], \"key3\":45}                        # having same elements is fine, but have different keys "
   ]
  },
  {
   "cell_type": "code",
   "execution_count": 98,
   "id": "919aef45",
   "metadata": {},
   "outputs": [
    {
     "data": {
      "text/plain": [
       "{'key1': [2, 3, 4, 5], 'key2': [2, 3, 4, 5], 'key3': 45}"
      ]
     },
     "execution_count": 98,
     "metadata": {},
     "output_type": "execute_result"
    }
   ],
   "source": [
    "d3"
   ]
  },
  {
   "cell_type": "code",
   "execution_count": 101,
   "id": "0cbed547",
   "metadata": {},
   "outputs": [],
   "source": [
    "d = {\"name\" : \"zayn\", \"mob_no\": 452645, \"email\" :\"zayn@yahoo.com\", \"key1\": [4,5,6,7], \"key2\": (1,2,3,4),\"key3\": {3,4,5,5,5,5,6,6,6,7,8,8}, \"key4\":{4:6,9:0}}"
   ]
  },
  {
   "cell_type": "code",
   "execution_count": 102,
   "id": "410780af",
   "metadata": {},
   "outputs": [
    {
     "data": {
      "text/plain": [
       "{'name': 'zayn',\n",
       " 'mob_no': 452645,\n",
       " 'email': 'zayn@yahoo.com',\n",
       " 'key1': [4, 5, 6, 7],\n",
       " 'key2': (1, 2, 3, 4),\n",
       " 'key3': {3, 4, 5, 6, 7, 8},\n",
       " 'key4': {4: 6, 9: 0}}"
      ]
     },
     "execution_count": 102,
     "metadata": {},
     "output_type": "execute_result"
    }
   ],
   "source": [
    "d"
   ]
  },
  {
   "cell_type": "code",
   "execution_count": 105,
   "id": "b22eb454",
   "metadata": {},
   "outputs": [
    {
     "data": {
      "text/plain": [
       "dict"
      ]
     },
     "execution_count": 105,
     "metadata": {},
     "output_type": "execute_result"
    }
   ],
   "source": [
    "type(d[\"key4\"])"
   ]
  },
  {
   "cell_type": "code",
   "execution_count": 106,
   "id": "485749ec",
   "metadata": {},
   "outputs": [
    {
     "data": {
      "text/plain": [
       "set"
      ]
     },
     "execution_count": 106,
     "metadata": {},
     "output_type": "execute_result"
    }
   ],
   "source": [
    "type(d[\"key3\"])"
   ]
  },
  {
   "cell_type": "code",
   "execution_count": 107,
   "id": "d67652c0",
   "metadata": {},
   "outputs": [
    {
     "data": {
      "text/plain": [
       "dict_keys(['name', 'mob_no', 'email', 'key1', 'key2', 'key3', 'key4'])"
      ]
     },
     "execution_count": 107,
     "metadata": {},
     "output_type": "execute_result"
    }
   ],
   "source": [
    "d.keys()"
   ]
  },
  {
   "cell_type": "code",
   "execution_count": 108,
   "id": "5dc7154a",
   "metadata": {},
   "outputs": [
    {
     "data": {
      "text/plain": [
       "dict_items([('name', 'zayn'), ('mob_no', 452645), ('email', 'zayn@yahoo.com'), ('key1', [4, 5, 6, 7]), ('key2', (1, 2, 3, 4)), ('key3', {3, 4, 5, 6, 7, 8}), ('key4', {4: 6, 9: 0})])"
      ]
     },
     "execution_count": 108,
     "metadata": {},
     "output_type": "execute_result"
    }
   ],
   "source": [
    "d.items()"
   ]
  },
  {
   "cell_type": "code",
   "execution_count": 109,
   "id": "93513648",
   "metadata": {},
   "outputs": [
    {
     "data": {
      "text/plain": [
       "dict_items"
      ]
     },
     "execution_count": 109,
     "metadata": {},
     "output_type": "execute_result"
    }
   ],
   "source": [
    "type(d.items())"
   ]
  },
  {
   "cell_type": "code",
   "execution_count": 110,
   "id": "2814d38d",
   "metadata": {},
   "outputs": [],
   "source": [
    "d3 = {\"key1\":\"sham\",\"key2\":\"5.6\"}"
   ]
  },
  {
   "cell_type": "code",
   "execution_count": 111,
   "id": "d44adca6",
   "metadata": {},
   "outputs": [],
   "source": [
    "d3[\"key3\"] = \"gowda\""
   ]
  },
  {
   "cell_type": "code",
   "execution_count": 112,
   "id": "41046968",
   "metadata": {},
   "outputs": [
    {
     "data": {
      "text/plain": [
       "{'key1': 'sham', 'key2': '5.6', 'key3': 'gowda'}"
      ]
     },
     "execution_count": 112,
     "metadata": {},
     "output_type": "execute_result"
    }
   ],
   "source": [
    "d3"
   ]
  },
  {
   "cell_type": "code",
   "execution_count": 113,
   "id": "3a5b54e9",
   "metadata": {},
   "outputs": [],
   "source": [
    "d3[4] = (30,5,1994)"
   ]
  },
  {
   "cell_type": "code",
   "execution_count": 114,
   "id": "a05b18ad",
   "metadata": {},
   "outputs": [
    {
     "data": {
      "text/plain": [
       "{'key1': 'sham', 'key2': '5.6', 'key3': 'gowda', 4: (30, 5, 1994)}"
      ]
     },
     "execution_count": 114,
     "metadata": {},
     "output_type": "execute_result"
    }
   ],
   "source": [
    "d3"
   ]
  },
  {
   "cell_type": "code",
   "execution_count": 118,
   "id": "5aca264e",
   "metadata": {},
   "outputs": [],
   "source": [
    "d3[\"key1\"] = \"fsda\""
   ]
  },
  {
   "cell_type": "code",
   "execution_count": 119,
   "id": "5c2f5fbb",
   "metadata": {},
   "outputs": [
    {
     "data": {
      "text/plain": [
       "{'key1': 'fsda', 'key2': '5.6', 'key3': 'gowda', 4: (30, 5, 1994)}"
      ]
     },
     "execution_count": 119,
     "metadata": {},
     "output_type": "execute_result"
    }
   ],
   "source": [
    "d3"
   ]
  },
  {
   "cell_type": "code",
   "execution_count": 120,
   "id": "a502aadd",
   "metadata": {},
   "outputs": [],
   "source": [
    "del d3[\"key1\"]"
   ]
  },
  {
   "cell_type": "code",
   "execution_count": 121,
   "id": "a2654d7c",
   "metadata": {},
   "outputs": [
    {
     "data": {
      "text/plain": [
       "{'key2': '5.6', 'key3': 'gowda', 4: (30, 5, 1994)}"
      ]
     },
     "execution_count": 121,
     "metadata": {},
     "output_type": "execute_result"
    }
   ],
   "source": [
    "d3"
   ]
  },
  {
   "cell_type": "code",
   "execution_count": 122,
   "id": "d301e19e",
   "metadata": {},
   "outputs": [],
   "source": [
    "del d3"
   ]
  },
  {
   "cell_type": "code",
   "execution_count": 123,
   "id": "399dc888",
   "metadata": {},
   "outputs": [
    {
     "ename": "NameError",
     "evalue": "name 'd3' is not defined",
     "output_type": "error",
     "traceback": [
      "\u001b[1;31m---------------------------------------------------------------------------\u001b[0m",
      "\u001b[1;31mNameError\u001b[0m                                 Traceback (most recent call last)",
      "\u001b[1;32mC:\\Users\\PD1D7~1.SUR\\AppData\\Local\\Temp/ipykernel_20688/3940902595.py\u001b[0m in \u001b[0;36m<module>\u001b[1;34m\u001b[0m\n\u001b[1;32m----> 1\u001b[1;33m \u001b[0md3\u001b[0m\u001b[1;33m\u001b[0m\u001b[1;33m\u001b[0m\u001b[0m\n\u001b[0m",
      "\u001b[1;31mNameError\u001b[0m: name 'd3' is not defined"
     ]
    }
   ],
   "source": [
    "d3"
   ]
  },
  {
   "cell_type": "code",
   "execution_count": 124,
   "id": "04c58bc0",
   "metadata": {},
   "outputs": [],
   "source": [
    "d4 = {\"key1\":\"harshith\", \"key2\":[4,5,6,7]}"
   ]
  },
  {
   "cell_type": "code",
   "execution_count": 125,
   "id": "f0245be4",
   "metadata": {},
   "outputs": [
    {
     "ename": "TypeError",
     "evalue": "unhashable type: 'list'",
     "output_type": "error",
     "traceback": [
      "\u001b[1;31m---------------------------------------------------------------------------\u001b[0m",
      "\u001b[1;31mTypeError\u001b[0m                                 Traceback (most recent call last)",
      "\u001b[1;32mC:\\Users\\PD1D7~1.SUR\\AppData\\Local\\Temp/ipykernel_20688/3030119222.py\u001b[0m in \u001b[0;36m<module>\u001b[1;34m\u001b[0m\n\u001b[1;32m----> 1\u001b[1;33m \u001b[0md4\u001b[0m\u001b[1;33m[\u001b[0m\u001b[1;33m[\u001b[0m\u001b[1;36m1\u001b[0m\u001b[1;33m,\u001b[0m\u001b[1;36m2\u001b[0m\u001b[1;33m,\u001b[0m\u001b[1;36m3\u001b[0m\u001b[1;33m]\u001b[0m\u001b[1;33m]\u001b[0m \u001b[1;33m=\u001b[0m \u001b[1;34m'ineuron'\u001b[0m\u001b[1;33m\u001b[0m\u001b[1;33m\u001b[0m\u001b[0m\n\u001b[0m",
      "\u001b[1;31mTypeError\u001b[0m: unhashable type: 'list'"
     ]
    }
   ],
   "source": [
    "d4[[1,2,3]] = 'ineuron'                                             #list as a key is not excutable"
   ]
  },
  {
   "cell_type": "code",
   "execution_count": 126,
   "id": "fc94ae38",
   "metadata": {},
   "outputs": [],
   "source": [
    "d4[(1,2,3)] = 'ineuron'                                            #tuple as a key is executable since it is imutable "
   ]
  },
  {
   "cell_type": "code",
   "execution_count": 127,
   "id": "66f64ca7",
   "metadata": {},
   "outputs": [
    {
     "data": {
      "text/plain": [
       "{'key1': 'harshith', 'key2': [4, 5, 6, 7], (1, 2, 3): 'ineuron'}"
      ]
     },
     "execution_count": 127,
     "metadata": {},
     "output_type": "execute_result"
    }
   ],
   "source": [
    "d4"
   ]
  },
  {
   "cell_type": "code",
   "execution_count": 128,
   "id": "3fff6115",
   "metadata": {},
   "outputs": [
    {
     "data": {
      "text/plain": [
       "'harshith'"
      ]
     },
     "execution_count": 128,
     "metadata": {},
     "output_type": "execute_result"
    }
   ],
   "source": [
    "d4.get('key1')"
   ]
  },
  {
   "cell_type": "code",
   "execution_count": 129,
   "id": "dc4cda9b",
   "metadata": {},
   "outputs": [],
   "source": [
    "d5 = {\"key1\":\"ineuron\", \"key\":\"fsds\"}"
   ]
  },
  {
   "cell_type": "code",
   "execution_count": 130,
   "id": "047ca7e7",
   "metadata": {},
   "outputs": [],
   "source": [
    "d6 = {\"key2\" : 567, \"key3\":[8.,9,0]}"
   ]
  },
  {
   "cell_type": "code",
   "execution_count": 131,
   "id": "46d0c762",
   "metadata": {},
   "outputs": [],
   "source": [
    "d5.update(d6)"
   ]
  },
  {
   "cell_type": "code",
   "execution_count": 132,
   "id": "86d05791",
   "metadata": {},
   "outputs": [
    {
     "data": {
      "text/plain": [
       "{'key1': 'ineuron', 'key': 'fsds', 'key2': 567, 'key3': [8.0, 9, 0]}"
      ]
     },
     "execution_count": 132,
     "metadata": {},
     "output_type": "execute_result"
    }
   ],
   "source": [
    "d5                                                 #updated/combined d5 with d6 "
   ]
  },
  {
   "cell_type": "code",
   "execution_count": 133,
   "id": "e6112ac0",
   "metadata": {},
   "outputs": [
    {
     "data": {
      "text/plain": [
       "{'key2': 567, 'key3': [8.0, 9, 0]}"
      ]
     },
     "execution_count": 133,
     "metadata": {},
     "output_type": "execute_result"
    }
   ],
   "source": [
    "d6"
   ]
  },
  {
   "cell_type": "code",
   "execution_count": 134,
   "id": "6d9beb88",
   "metadata": {},
   "outputs": [
    {
     "ename": "TypeError",
     "evalue": "unsupported operand type(s) for +: 'dict' and 'dict'",
     "output_type": "error",
     "traceback": [
      "\u001b[1;31m---------------------------------------------------------------------------\u001b[0m",
      "\u001b[1;31mTypeError\u001b[0m                                 Traceback (most recent call last)",
      "\u001b[1;32mC:\\Users\\PD1D7~1.SUR\\AppData\\Local\\Temp/ipykernel_20688/4015045622.py\u001b[0m in \u001b[0;36m<module>\u001b[1;34m\u001b[0m\n\u001b[1;32m----> 1\u001b[1;33m \u001b[0md5\u001b[0m\u001b[1;33m+\u001b[0m\u001b[0md6\u001b[0m\u001b[1;33m\u001b[0m\u001b[1;33m\u001b[0m\u001b[0m\n\u001b[0m",
      "\u001b[1;31mTypeError\u001b[0m: unsupported operand type(s) for +: 'dict' and 'dict'"
     ]
    }
   ],
   "source": [
    "d5+d6"
   ]
  },
  {
   "cell_type": "code",
   "execution_count": 135,
   "id": "82d79e1f",
   "metadata": {},
   "outputs": [
    {
     "data": {
      "text/plain": [
       "{'key1': 'ineuron', 'key': 'fsds', 'key2': 567, 'key3': [8.0, 9, 0]}"
      ]
     },
     "execution_count": 135,
     "metadata": {},
     "output_type": "execute_result"
    }
   ],
   "source": [
    "d5"
   ]
  },
  {
   "cell_type": "code",
   "execution_count": 137,
   "id": "703935e0",
   "metadata": {},
   "outputs": [],
   "source": [
    "keys = (\"name\", \"mobile\", \"email\")\n",
    "value = \"sudh\""
   ]
  },
  {
   "cell_type": "code",
   "execution_count": 142,
   "id": "19430eec",
   "metadata": {},
   "outputs": [],
   "source": [
    "d = d.fromkeys(keys, value)"
   ]
  },
  {
   "cell_type": "code",
   "execution_count": 144,
   "id": "edeea85e",
   "metadata": {},
   "outputs": [
    {
     "data": {
      "text/plain": [
       "{'name': 'sudh', 'mobile': 'sudh', 'email': 'sudh'}"
      ]
     },
     "execution_count": 144,
     "metadata": {},
     "output_type": "execute_result"
    }
   ],
   "source": [
    "d"
   ]
  }
 ],
 "metadata": {
  "kernelspec": {
   "display_name": "Python 3 (ipykernel)",
   "language": "python",
   "name": "python3"
  },
  "language_info": {
   "codemirror_mode": {
    "name": "ipython",
    "version": 3
   },
   "file_extension": ".py",
   "mimetype": "text/x-python",
   "name": "python",
   "nbconvert_exporter": "python",
   "pygments_lexer": "ipython3",
   "version": "3.9.7"
  }
 },
 "nbformat": 4,
 "nbformat_minor": 5
}
