{
 "cells": [
  {
   "cell_type": "code",
   "execution_count": 1,
   "id": "8be95fb9",
   "metadata": {},
   "outputs": [],
   "source": [
    "# control flow - if else statement"
   ]
  },
  {
   "cell_type": "code",
   "execution_count": 2,
   "id": "dfe65639",
   "metadata": {},
   "outputs": [],
   "source": [
    "a = 10 "
   ]
  },
  {
   "cell_type": "code",
   "execution_count": 9,
   "id": "9c9b5413",
   "metadata": {},
   "outputs": [],
   "source": [
    "if a < 15 :                                                         # if you dont want to write anything inside we can just pass\n",
    "    pass"
   ]
  },
  {
   "cell_type": "code",
   "execution_count": 7,
   "id": "1d31063f",
   "metadata": {},
   "outputs": [
    {
     "name": "stdout",
     "output_type": "stream",
     "text": [
      "my name is gowtham\n"
     ]
    }
   ],
   "source": [
    "if a < 15 :                                                              #indentation (:) is important otherwise throws arror \n",
    "    print (\"my name is gowtham\")"
   ]
  },
  {
   "cell_type": "code",
   "execution_count": 6,
   "id": "109689bb",
   "metadata": {},
   "outputs": [
    {
     "data": {
      "text/plain": [
       "True"
      ]
     },
     "execution_count": 6,
     "metadata": {},
     "output_type": "execute_result"
    }
   ],
   "source": [
    "a<15"
   ]
  },
  {
   "cell_type": "code",
   "execution_count": 13,
   "id": "927d90a9",
   "metadata": {},
   "outputs": [],
   "source": [
    "if 24 < 15 : \n",
    "    print (\"my name is gowtham\")"
   ]
  },
  {
   "cell_type": "code",
   "execution_count": 12,
   "id": "bc1d527f",
   "metadata": {},
   "outputs": [
    {
     "data": {
      "text/plain": [
       "False"
      ]
     },
     "execution_count": 12,
     "metadata": {},
     "output_type": "execute_result"
    }
   ],
   "source": [
    "24 < 15  "
   ]
  },
  {
   "cell_type": "code",
   "execution_count": 14,
   "id": "5df9794e",
   "metadata": {},
   "outputs": [
    {
     "name": "stdout",
     "output_type": "stream",
     "text": [
      "if statement is wrong\n"
     ]
    }
   ],
   "source": [
    "if 10 < 3:\n",
    "    print (\"10 is lesser than 3\")\n",
    "else:\n",
    "    print (\"if statement is wrong\")"
   ]
  },
  {
   "cell_type": "code",
   "execution_count": 15,
   "id": "7ebd6775",
   "metadata": {},
   "outputs": [
    {
     "name": "stdout",
     "output_type": "stream",
     "text": [
      "10 is lesser than 3\n"
     ]
    }
   ],
   "source": [
    "if 5 < 10:\n",
    "    print (\"10 is lesser than 3\")\n",
    "else:\n",
    "    print (\"if statement is wrong\")"
   ]
  },
  {
   "cell_type": "code",
   "execution_count": 1,
   "id": "a9dc55df",
   "metadata": {},
   "outputs": [
    {
     "name": "stdout",
     "output_type": "stream",
     "text": [
      "10\n",
      " i will be able to buy a phone\n"
     ]
    }
   ],
   "source": [
    "income = int(input())\n",
    "if income < 50 :\n",
    "    print (\" i will be able to buy a phone\")\n",
    "elif income < 70 :\n",
    "    print (\" i will be able to buy a car\")\n",
    "elif income < 90 :\n",
    "    print (\" i will be able to rent a house\")\n",
    "else:\n",
    "    print (\" i will not be able to buy anything\")\n",
    "    "
   ]
  },
  {
   "cell_type": "code",
   "execution_count": 4,
   "id": "71fc7af3",
   "metadata": {},
   "outputs": [
    {
     "name": "stdout",
     "output_type": "stream",
     "text": [
      "5894\n",
      "discount will be  294.7\n"
     ]
    }
   ],
   "source": [
    "total_price = int(input())\n",
    "if total_price > 20000:\n",
    "    discount  = total_price * 0.2\n",
    "    print (\"discount will be \", discount)\n",
    "elif total_price <= 7000:\n",
    "    discount = total_price * 0.05\n",
    "    print (\"discount will be \", discount)\n",
    "else:\n",
    "    print (\" wont be able to give any discount\")"
   ]
  },
  {
   "cell_type": "code",
   "execution_count": 7,
   "id": "a7cab4d9",
   "metadata": {},
   "outputs": [
    {
     "name": "stdout",
     "output_type": "stream",
     "text": [
      "SUDHANSHU5\n",
      " you will be able to get a discount of 5%\n",
      " you will be able to get one neuron with this amount  6726.0\n"
     ]
    }
   ],
   "source": [
    "coup = input()\n",
    "if coup == \"SUDHANSHU5\":\n",
    "    print (\" you will be able to get a discount of 5%\")\n",
    "    paid_amount = 7080 - (7080 * 0.05)\n",
    "    print (\" you will be able to get one neuron with this amount \", paid_amount)\n",
    "else:\n",
    "    print (\"kindly use a valid coupon code \")"
   ]
  },
  {
   "cell_type": "code",
   "execution_count": 8,
   "id": "4d946c7d",
   "metadata": {},
   "outputs": [
    {
     "name": "stdout",
     "output_type": "stream",
     "text": [
      "5\n",
      "it may take 5 months of time to make a transition\n"
     ]
    }
   ],
   "source": [
    "study_hour = int(input()) \n",
    "if study_hour < 1:\n",
    "    print(\"it may take 8-9 months of time to make a transition\")\n",
    "elif study_hour < 4 and study_hour > 1:\n",
    "    print (\"it may take 6 months of time to make a transition \")\n",
    "elif study_hour < 10 and study_hour > 4 :\n",
    "    print (\"it may take 5 months of time to make a transition\")\n",
    "elif study_hour > 10 :\n",
    "    print (\"it may take 3 months of time to make a transition \")\n",
    "else:\n",
    "    print (\" it will be difficult to make a transition\")"
   ]
  },
  {
   "cell_type": "code",
   "execution_count": 13,
   "id": "e47a0cc3",
   "metadata": {},
   "outputs": [
    {
     "name": "stdout",
     "output_type": "stream",
     "text": [
      "3\n",
      "study consistently \n"
     ]
    }
   ],
   "source": [
    "study =float(input())\n",
    "if study <1:\n",
    "    print(\"study more\")\n",
    "elif study > 2 and study < 4.5:\n",
    "    print (\"study consistently \")\n",
    "else:\n",
    "    print(\"start studying\")"
   ]
  },
  {
   "cell_type": "code",
   "execution_count": 12,
   "id": "dfb2435b",
   "metadata": {},
   "outputs": [
    {
     "name": "stdout",
     "output_type": "stream",
     "text": [
      "valid\n"
     ]
    }
   ],
   "source": [
    "a = 9\n",
    "if a == 9 :\n",
    "    print (\"valid\")"
   ]
  },
  {
   "cell_type": "code",
   "execution_count": 17,
   "id": "b3919803",
   "metadata": {},
   "outputs": [
    {
     "name": "stdout",
     "output_type": "stream",
     "text": [
      "enter a string to startoneneuron\n",
      " enter course name yuh\n",
      " enter service name job\n",
      "kindly connect with our team \n"
     ]
    }
   ],
   "source": [
    "s = input(\"enter a string to start\")\n",
    "course= input(\" enter course name \")\n",
    "service= input(\" enter service name \")\n",
    "if s == \"ineuron\":\n",
    "    if course == \"DSA\":\n",
    "        print (\"yes its available under oneneuron and in multiple modes for job preparation and core concepts\")\n",
    "    elif course == \"Blockchain\":\n",
    "        print (\" this is not available as of now  , kindly raise your demand and we will fullfill in 60 days\")\n",
    "    elif course == \"FSDS\":\n",
    "        print (\"yes it is available and you can start learning \")\n",
    "    else:\n",
    "        print(\"this course is not available kindly raise your demand \")\n",
    "elif s == \"oneneuronservice\":\n",
    "    if service == \"courserequest\":\n",
    "        print(\"this is not available as of now  , kindly raise your demand and we will fullfill in 60 days\")\n",
    "    elif service == \"module\":\n",
    "        print(\"this is not available as of now  , kindly raise your demand and we will fullfill in 30 days\")\n",
    "    elif service == \"doubt\":\n",
    "        print (\"kindly raise your demand and we will fullfill in 24 hours\")\n",
    "    else:\n",
    "        print(\"kindly provide your feedback and we will fulfill\")\n",
    "        \n",
    "else :\n",
    "    print (\"kindly connect with our team \")"
   ]
  },
  {
   "cell_type": "code",
   "execution_count": 20,
   "id": "be0b575b",
   "metadata": {},
   "outputs": [
    {
     "name": "stdout",
     "output_type": "stream",
     "text": [
      "1\n",
      "2\n",
      "3\n",
      "4\n",
      "5\n",
      "6\n",
      "7\n"
     ]
    }
   ],
   "source": [
    "l = [1,2,3,4,5,6,7]\n",
    "for i in l:\n",
    "    print(i)"
   ]
  },
  {
   "cell_type": "code",
   "execution_count": 21,
   "id": "45aad646",
   "metadata": {},
   "outputs": [
    {
     "name": "stdout",
     "output_type": "stream",
     "text": [
      "s\n",
      "u\n",
      "d\n",
      "h\n"
     ]
    }
   ],
   "source": [
    "s = \"sudh\"\n",
    "for i in s:\n",
    "    print(i)"
   ]
  },
  {
   "cell_type": "code",
   "execution_count": 22,
   "id": "297de291",
   "metadata": {},
   "outputs": [
    {
     "name": "stdout",
     "output_type": "stream",
     "text": [
      "s\n",
      "u\n",
      "d\n",
      "h\n"
     ]
    }
   ],
   "source": [
    "for i in \"sudh\":\n",
    "    print(i)"
   ]
  },
  {
   "cell_type": "code",
   "execution_count": 23,
   "id": "17d4fcb9",
   "metadata": {},
   "outputs": [
    {
     "name": "stdout",
     "output_type": "stream",
     "text": [
      "1\n",
      "2\n",
      "3\n",
      "4\n",
      "5\n",
      "6\n",
      "6\n"
     ]
    }
   ],
   "source": [
    "t = (1,2,3,4,5,6,6)\n",
    "for i in t:\n",
    "    print(i)\n"
   ]
  },
  {
   "cell_type": "code",
   "execution_count": 25,
   "id": "b137da2b",
   "metadata": {},
   "outputs": [
    {
     "name": "stdout",
     "output_type": "stream",
     "text": [
      "<class 'int'> type of  1\n",
      "<class 'int'> type of  4\n",
      "<class 'float'> type of  5.6\n",
      "<class 'complex'> type of  4.7j\n",
      "<class 'str'> type of  push\n"
     ]
    }
   ],
   "source": [
    "l = [1,4,5.6,4.7j,'push']\n",
    "for i in l:\n",
    "    print(type(i), \"type of \", i)"
   ]
  },
  {
   "cell_type": "code",
   "execution_count": 28,
   "id": "e0096090",
   "metadata": {},
   "outputs": [
    {
     "name": "stdout",
     "output_type": "stream",
     "text": [
      "5\n",
      "6\n",
      "7.6\n",
      "9.8\n",
      "(8+4j)\n"
     ]
    }
   ],
   "source": [
    "l = [3,4,5.6,7.8,6+4j]\n",
    "l1=[]\n",
    "for i in l:\n",
    "    print(i+2)\n",
    "    l1.append(i+2)"
   ]
  },
  {
   "cell_type": "code",
   "execution_count": 29,
   "id": "636c0d2f",
   "metadata": {},
   "outputs": [
    {
     "data": {
      "text/plain": [
       "[5, 6, 7.6, 9.8, (8+4j)]"
      ]
     },
     "execution_count": 29,
     "metadata": {},
     "output_type": "execute_result"
    }
   ],
   "source": [
    "l1"
   ]
  },
  {
   "cell_type": "code",
   "execution_count": 36,
   "id": "f505baf2",
   "metadata": {},
   "outputs": [
    {
     "name": "stdout",
     "output_type": "stream",
     "text": [
      "2\n",
      "4\n",
      "78\n",
      "5\n",
      "6\n",
      "7\n",
      "8\n"
     ]
    }
   ],
   "source": [
    "l = [2,4,78,9.0,5.6,7.9j,[5,6,7,8,'k'],\"push\"]\n",
    "for i in l:\n",
    "    if type(i) == int:\n",
    "        print(i)\n",
    "    elif type(i) == list:\n",
    "        for j in i:\n",
    "            if type(j) == int:\n",
    "               print(j) \n",
    "            \n",
    "        "
   ]
  },
  {
   "cell_type": "code",
   "execution_count": 81,
   "id": "e4436048",
   "metadata": {},
   "outputs": [],
   "source": [
    "l = [2,45,78,12,12,12,12,\"sudh\",6+7j,[56,67,78,'dsfd'],\"kumar\"]"
   ]
  },
  {
   "cell_type": "code",
   "execution_count": 65,
   "id": "8e2c9f26",
   "metadata": {},
   "outputs": [
    {
     "name": "stdout",
     "output_type": "stream",
     "text": [
      "0 index of  2\n",
      "1 index of  45\n",
      "2 index of  78\n",
      "3 index of  12\n",
      "3 index of  12\n",
      "3 index of  12\n",
      "3 index of  12\n",
      "7 index of  sudh\n",
      "8 index of  (6+7j)\n",
      "9 index of  [56, 67, 78, 'dsfd']\n"
     ]
    }
   ],
   "source": [
    "for i in l:\n",
    "    print(l.index(i), \"index of \",i)                                         # this solution is not advisable because if items are repetitive it gives the index of first element alone "
   ]
  },
  {
   "cell_type": "code",
   "execution_count": 70,
   "id": "60976ce7",
   "metadata": {},
   "outputs": [
    {
     "name": "stdout",
     "output_type": "stream",
     "text": [
      "index 0 for element 2\n",
      "index 1 for element 45\n",
      "index 2 for element 78\n",
      "index 3 for element 12\n",
      "index 4 for element 12\n",
      "index 5 for element 12\n",
      "index 6 for element 12\n",
      "index 7 for element sudh\n",
      "index 8 for element (6+7j)\n",
      "index 9 for element [56, 67, 78, 'dsfd']\n"
     ]
    }
   ],
   "source": [
    "for i in range(len(l)):\n",
    "    print('index',i, \"for element\",l[i])\n"
   ]
  },
  {
   "cell_type": "code",
   "execution_count": 74,
   "id": "aa7d7b69",
   "metadata": {},
   "outputs": [
    {
     "name": "stdout",
     "output_type": "stream",
     "text": [
      "(0, 2)\n",
      "(1, 45)\n",
      "(2, 78)\n",
      "(3, 12)\n",
      "(4, 12)\n",
      "(5, 12)\n",
      "(6, 12)\n",
      "(7, 'sudh')\n",
      "(8, (6+7j))\n",
      "(9, [56, 67, 78, 'dsfd'])\n"
     ]
    }
   ],
   "source": [
    "for i in enumerate(l):\n",
    "    print(i)                                                          #returns a tuple of its element and its respective index"
   ]
  },
  {
   "cell_type": "code",
   "execution_count": 73,
   "id": "489a9170",
   "metadata": {},
   "outputs": [
    {
     "name": "stdout",
     "output_type": "stream",
     "text": [
      "0 2\n",
      "1 45\n",
      "2 78\n",
      "3 12\n",
      "4 12\n",
      "5 12\n",
      "6 12\n",
      "7 sudh\n",
      "8 (6+7j)\n",
      "9 [56, 67, 78, 'dsfd']\n"
     ]
    }
   ],
   "source": [
    "for i,j in enumerate(l):\n",
    "    print(i,j)"
   ]
  },
  {
   "cell_type": "code",
   "execution_count": 82,
   "id": "efe22877",
   "metadata": {},
   "outputs": [
    {
     "name": "stdout",
     "output_type": "stream",
     "text": [
      "['s', 'u', 'd', 'h']\n",
      "['k', 'u', 'm', 'a', 'r']\n"
     ]
    }
   ],
   "source": [
    "for i in l :\n",
    "    if type(i) == str:\n",
    "        l1 = []\n",
    "        for j in i:\n",
    "            l1.append(j)\n",
    "        print(l1)"
   ]
  },
  {
   "cell_type": "code",
   "execution_count": 91,
   "id": "f93d8d26",
   "metadata": {},
   "outputs": [],
   "source": [
    "l2=[]\n",
    "for i in l:\n",
    "    if type(i) == int:\n",
    "        l2.append(i**2) \n",
    "                        "
   ]
  },
  {
   "cell_type": "code",
   "execution_count": 92,
   "id": "4ba56877",
   "metadata": {},
   "outputs": [
    {
     "data": {
      "text/plain": [
       "[4, 2025, 6084, 144, 144, 144, 144]"
      ]
     },
     "execution_count": 92,
     "metadata": {},
     "output_type": "execute_result"
    }
   ],
   "source": [
    "l2"
   ]
  },
  {
   "cell_type": "code",
   "execution_count": 95,
   "id": "3a4f6b6a",
   "metadata": {},
   "outputs": [
    {
     "name": "stdout",
     "output_type": "stream",
     "text": [
      "4\n",
      "2025\n",
      "6084\n",
      "144\n",
      "144\n",
      "144\n",
      "144\n",
      "3136\n",
      "4489\n",
      "6084\n"
     ]
    }
   ],
   "source": [
    "for i in l:\n",
    "    if type(i) == int:\n",
    "        print(i**2)\n",
    "    elif type(i) == list:\n",
    "        for j in i:\n",
    "            if type(j) == int:\n",
    "               print(j**2) "
   ]
  },
  {
   "cell_type": "code",
   "execution_count": 3,
   "id": "e3e7d747",
   "metadata": {},
   "outputs": [
    {
     "name": "stdout",
     "output_type": "stream",
     "text": [
      "name sudh\n",
      "emailidsudh\n",
      "phoneno.sudh\n",
      "addresssudh\n"
     ]
    }
   ],
   "source": [
    "l = ['name ', 'emailid','phoneno.','address']\n",
    "for i in l:\n",
    "    print(i + \"sudh\")"
   ]
  },
  {
   "cell_type": "code",
   "execution_count": 4,
   "id": "427ffff0",
   "metadata": {},
   "outputs": [
    {
     "name": "stdout",
     "output_type": "stream",
     "text": [
      "i\n",
      "n\n",
      "e\n",
      "u\n",
      "r\n",
      "o\n",
      "n\n"
     ]
    }
   ],
   "source": [
    "s = 'ineuron'\n",
    "for i in s:\n",
    "    print(i)"
   ]
  },
  {
   "cell_type": "code",
   "execution_count": 5,
   "id": "cb558ec3",
   "metadata": {},
   "outputs": [
    {
     "data": {
      "text/plain": [
       "['name ', 'emailid', 'phoneno.', 'address']"
      ]
     },
     "execution_count": 5,
     "metadata": {},
     "output_type": "execute_result"
    }
   ],
   "source": [
    "l"
   ]
  },
  {
   "cell_type": "code",
   "execution_count": 6,
   "id": "440f5a50",
   "metadata": {},
   "outputs": [
    {
     "name": "stdout",
     "output_type": "stream",
     "text": [
      "name \n",
      "emailid\n",
      "phoneno.\n",
      "address\n",
      "if for loop is not going to complete itself then it will come to else\n"
     ]
    }
   ],
   "source": [
    "for i in l:\n",
    "    print(i)\n",
    "else:\n",
    "    print(\"if for loop is not going to complete itself then it will come to else\")"
   ]
  },
  {
   "cell_type": "code",
   "execution_count": 7,
   "id": "f3e66fab",
   "metadata": {},
   "outputs": [
    {
     "data": {
      "text/plain": [
       "['name ', 'emailid', 'phoneno.', 'address']"
      ]
     },
     "execution_count": 7,
     "metadata": {},
     "output_type": "execute_result"
    }
   ],
   "source": [
    "l"
   ]
  },
  {
   "cell_type": "code",
   "execution_count": 8,
   "id": "661e8a0e",
   "metadata": {},
   "outputs": [
    {
     "name": "stdout",
     "output_type": "stream",
     "text": [
      "name \n"
     ]
    }
   ],
   "source": [
    "for i in l :\n",
    "    if i == \"emailid\":\n",
    "        break \n",
    "    print(i)\n",
    "else:\n",
    "    print(\"check this statement\")\n",
    "    "
   ]
  },
  {
   "cell_type": "code",
   "execution_count": 11,
   "id": "3536fce9",
   "metadata": {},
   "outputs": [],
   "source": [
    "s = \"sudhanshu\"\n",
    "for i in s:\n",
    "    if i == \"n\":\n",
    "        break\n",
    "else:\n",
    "    print(\"dont execute it unless and until it is printing my name \")"
   ]
  },
  {
   "cell_type": "code",
   "execution_count": 12,
   "id": "307bf3c6",
   "metadata": {},
   "outputs": [
    {
     "name": "stdout",
     "output_type": "stream",
     "text": [
      "1\n",
      "2\n",
      "3\n",
      "4\n",
      "5\n"
     ]
    }
   ],
   "source": [
    "a = 1\n",
    "while a<6:\n",
    "    print(a)\n",
    "    a = a+1"
   ]
  },
  {
   "cell_type": "code",
   "execution_count": 14,
   "id": "699ce507",
   "metadata": {},
   "outputs": [
    {
     "name": "stdout",
     "output_type": "stream",
     "text": [
      "1\n",
      "2\n",
      "3\n",
      "4\n"
     ]
    }
   ],
   "source": [
    "a = 1\n",
    "while a < 5 :\n",
    "    print(a)\n",
    "    if a == 4:\n",
    "        break\n",
    "    a = a+1"
   ]
  },
  {
   "cell_type": "code",
   "execution_count": null,
   "id": "bcc83a79",
   "metadata": {},
   "outputs": [],
   "source": [
    "a = 1\n",
    "while a<5 :\n",
    "    print(a)\n",
    "    a = a+1\n",
    "    if a == 3:\n",
    "        continue\n"
   ]
  },
  {
   "cell_type": "code",
   "execution_count": null,
   "id": "4ca4a6b4",
   "metadata": {},
   "outputs": [],
   "source": [
    "while a < 7:\n",
    "    pass                                                          # if we wouldn't use pass it would throw syntactical error"
   ]
  },
  {
   "cell_type": "code",
   "execution_count": null,
   "id": "31476688",
   "metadata": {},
   "outputs": [],
   "source": [
    "while a<4 :\n",
    "    continue"
   ]
  },
  {
   "cell_type": "code",
   "execution_count": 17,
   "id": "87f5e074",
   "metadata": {},
   "outputs": [
    {
     "data": {
      "text/plain": [
       "[0, 1, 2, 3, 4, 5]"
      ]
     },
     "execution_count": 17,
     "metadata": {},
     "output_type": "execute_result"
    }
   ],
   "source": [
    "list(range(6))"
   ]
  },
  {
   "cell_type": "code",
   "execution_count": 18,
   "id": "04b80eb5",
   "metadata": {},
   "outputs": [
    {
     "data": {
      "text/plain": [
       "[0, 1, 2, 3, 4, 5, 6]"
      ]
     },
     "execution_count": 18,
     "metadata": {},
     "output_type": "execute_result"
    }
   ],
   "source": [
    "list(range(0,7))"
   ]
  },
  {
   "cell_type": "code",
   "execution_count": 19,
   "id": "fba9bb22",
   "metadata": {},
   "outputs": [
    {
     "data": {
      "text/plain": [
       "[4,\n",
       " 5,\n",
       " 6,\n",
       " 7,\n",
       " 8,\n",
       " 9,\n",
       " 10,\n",
       " 11,\n",
       " 12,\n",
       " 13,\n",
       " 14,\n",
       " 15,\n",
       " 16,\n",
       " 17,\n",
       " 18,\n",
       " 19,\n",
       " 20,\n",
       " 21,\n",
       " 22,\n",
       " 23,\n",
       " 24,\n",
       " 25,\n",
       " 26,\n",
       " 27,\n",
       " 28,\n",
       " 29,\n",
       " 30,\n",
       " 31,\n",
       " 32,\n",
       " 33,\n",
       " 34,\n",
       " 35,\n",
       " 36,\n",
       " 37,\n",
       " 38,\n",
       " 39,\n",
       " 40,\n",
       " 41,\n",
       " 42,\n",
       " 43,\n",
       " 44,\n",
       " 45,\n",
       " 46,\n",
       " 47,\n",
       " 48,\n",
       " 49,\n",
       " 50,\n",
       " 51,\n",
       " 52,\n",
       " 53,\n",
       " 54,\n",
       " 55,\n",
       " 56,\n",
       " 57,\n",
       " 58,\n",
       " 59,\n",
       " 60,\n",
       " 61,\n",
       " 62,\n",
       " 63,\n",
       " 64,\n",
       " 65,\n",
       " 66,\n",
       " 67,\n",
       " 68,\n",
       " 69,\n",
       " 70,\n",
       " 71,\n",
       " 72,\n",
       " 73,\n",
       " 74,\n",
       " 75,\n",
       " 76,\n",
       " 77,\n",
       " 78,\n",
       " 79,\n",
       " 80,\n",
       " 81,\n",
       " 82,\n",
       " 83,\n",
       " 84,\n",
       " 85,\n",
       " 86,\n",
       " 87,\n",
       " 88,\n",
       " 89,\n",
       " 90,\n",
       " 91,\n",
       " 92,\n",
       " 93,\n",
       " 94,\n",
       " 95,\n",
       " 96,\n",
       " 97,\n",
       " 98,\n",
       " 99]"
      ]
     },
     "execution_count": 19,
     "metadata": {},
     "output_type": "execute_result"
    }
   ],
   "source": [
    "list(range(4,100))"
   ]
  },
  {
   "cell_type": "code",
   "execution_count": 20,
   "id": "71d59552",
   "metadata": {},
   "outputs": [
    {
     "data": {
      "text/plain": [
       "[3,\n",
       " 5,\n",
       " 7,\n",
       " 9,\n",
       " 11,\n",
       " 13,\n",
       " 15,\n",
       " 17,\n",
       " 19,\n",
       " 21,\n",
       " 23,\n",
       " 25,\n",
       " 27,\n",
       " 29,\n",
       " 31,\n",
       " 33,\n",
       " 35,\n",
       " 37,\n",
       " 39,\n",
       " 41,\n",
       " 43,\n",
       " 45,\n",
       " 47,\n",
       " 49]"
      ]
     },
     "execution_count": 20,
     "metadata": {},
     "output_type": "execute_result"
    }
   ],
   "source": [
    "list(range(3,50,2))"
   ]
  },
  {
   "cell_type": "code",
   "execution_count": 21,
   "id": "be49b970",
   "metadata": {},
   "outputs": [
    {
     "data": {
      "text/plain": [
       "[]"
      ]
     },
     "execution_count": 21,
     "metadata": {},
     "output_type": "execute_result"
    }
   ],
   "source": [
    "list(range(3,10,-1))"
   ]
  },
  {
   "cell_type": "code",
   "execution_count": 22,
   "id": "6c864206",
   "metadata": {},
   "outputs": [
    {
     "data": {
      "text/plain": [
       "[10, 9, 8, 7, 6, 5, 4]"
      ]
     },
     "execution_count": 22,
     "metadata": {},
     "output_type": "execute_result"
    }
   ],
   "source": [
    "list(range(10,3,-1))"
   ]
  },
  {
   "cell_type": "code",
   "execution_count": 23,
   "id": "128b24b9",
   "metadata": {},
   "outputs": [
    {
     "data": {
      "text/plain": [
       "[10, 8, 6, 4, 2, 0, -2, -4]"
      ]
     },
     "execution_count": 23,
     "metadata": {},
     "output_type": "execute_result"
    }
   ],
   "source": [
    "list(range(10, -5, -2))"
   ]
  },
  {
   "cell_type": "code",
   "execution_count": 24,
   "id": "0e85c60d",
   "metadata": {},
   "outputs": [
    {
     "name": "stdout",
     "output_type": "stream",
     "text": [
      "0\n",
      "1\n",
      "2\n",
      "3\n",
      "4\n",
      "5\n",
      "6\n"
     ]
    }
   ],
   "source": [
    "for i in range(7):\n",
    "    print(i)"
   ]
  },
  {
   "cell_type": "code",
   "execution_count": 78,
   "id": "a5e49799",
   "metadata": {},
   "outputs": [
    {
     "name": "stdout",
     "output_type": "stream",
     "text": [
      "*\r\n",
      "**\r\n",
      "***\r\n",
      "****\r\n",
      "*****\r\n"
     ]
    }
   ],
   "source": [
    "n = 5\n",
    "for i in range (0,n):\n",
    "    for j in range(0,i+1):\n",
    "        print(\"*\", end = '')                                         # at the end of everything end appends something and defaults to new line (works as \\n)\n",
    "    print('\\r')                                                      # when internal loop is exhausted print \\r (carriage return), can use \\n as well "
   ]
  },
  {
   "cell_type": "code",
   "execution_count": 48,
   "id": "afde6fdf",
   "metadata": {},
   "outputs": [
    {
     "name": "stdout",
     "output_type": "stream",
     "text": [
      "0\n",
      "1\n",
      "2\n",
      "3\n",
      "4\n",
      "5\n",
      "6\n"
     ]
    }
   ],
   "source": [
    "t = (3,4,5,6,7,8,9)\n",
    "for i in range(len(t)):                                                   #index of elements in tuple \n",
    "    print(i)"
   ]
  },
  {
   "cell_type": "code",
   "execution_count": 49,
   "id": "b1665d8d",
   "metadata": {},
   "outputs": [
    {
     "name": "stdout",
     "output_type": "stream",
     "text": [
      "0 3\n",
      "1 4\n",
      "2 5\n",
      "3 6\n",
      "4 7\n",
      "5 8\n",
      "6 9\n"
     ]
    }
   ],
   "source": [
    "t = (3,4,5,6,7,8,9)\n",
    "for i in range(len(t)):\n",
    "    print(i,t[i])                                                           #tuples and its respective indexes"
   ]
  },
  {
   "cell_type": "code",
   "execution_count": 50,
   "id": "bbf5db99",
   "metadata": {},
   "outputs": [
    {
     "data": {
      "text/plain": [
       "(3, 4, 5, 6, 7, 8, 9)"
      ]
     },
     "execution_count": 50,
     "metadata": {},
     "output_type": "execute_result"
    }
   ],
   "source": [
    "t"
   ]
  },
  {
   "cell_type": "code",
   "execution_count": 59,
   "id": "ed793a4e",
   "metadata": {},
   "outputs": [
    {
     "name": "stdout",
     "output_type": "stream",
     "text": [
      "9\n",
      "8\n",
      "7\n",
      "6\n",
      "5\n",
      "4\n",
      "3\n"
     ]
    }
   ],
   "source": [
    "for i in range(len(t)-1,-1,-1):\n",
    "    print(t[i])\n",
    "    "
   ]
  },
  {
   "cell_type": "code",
   "execution_count": 60,
   "id": "0d2587ed",
   "metadata": {},
   "outputs": [],
   "source": [
    "d = {\"a\":\"fsfds\", \"b\":\"fsds\",\"c\" :[1,2,3,4,5],\"d\":(4,5,6,7),\"e\":\"sudh\"}"
   ]
  },
  {
   "cell_type": "code",
   "execution_count": 61,
   "id": "1679532c",
   "metadata": {},
   "outputs": [
    {
     "name": "stdout",
     "output_type": "stream",
     "text": [
      "a\n",
      "b\n",
      "c\n",
      "d\n",
      "e\n"
     ]
    }
   ],
   "source": [
    "for i in d:\n",
    "    print(i)"
   ]
  },
  {
   "cell_type": "code",
   "execution_count": 62,
   "id": "24ab4d2e",
   "metadata": {},
   "outputs": [
    {
     "name": "stdout",
     "output_type": "stream",
     "text": [
      "*\r\n",
      "**\r\n",
      "***\r\n",
      "****\r\n",
      "*****\r\n"
     ]
    }
   ],
   "source": [
    "n = 5\n",
    "for i in range(0,n):\n",
    "    for j in range(0,i+1):\n",
    "        print(\"*\", end=\"\")\n",
    "    print(\"\\r\")"
   ]
  },
  {
   "cell_type": "code",
   "execution_count": 76,
   "id": "cf6ad290",
   "metadata": {},
   "outputs": [
    {
     "name": "stdout",
     "output_type": "stream",
     "text": [
      "*****\r\n",
      "****\r\n",
      "***\r\n",
      "**\r\n",
      "*\r\n"
     ]
    }
   ],
   "source": [
    "n=5 \n",
    "for i in range(1,n+1):\n",
    "    for j in range(1,n-i+2):\n",
    "        print(\"*\", end = \"\")\n",
    "    print(\"\\r\")"
   ]
  },
  {
   "cell_type": "code",
   "execution_count": 81,
   "id": "eacfe356",
   "metadata": {},
   "outputs": [
    {
     "data": {
      "text/plain": [
       "[0, 1, 2, 3, 4, 5]"
      ]
     },
     "execution_count": 81,
     "metadata": {},
     "output_type": "execute_result"
    }
   ],
   "source": [
    "t = (1,2,3,4,5,6)\n",
    "list(range(len(t)))"
   ]
  },
  {
   "cell_type": "code",
   "execution_count": 84,
   "id": "f120d59c",
   "metadata": {},
   "outputs": [
    {
     "name": "stdout",
     "output_type": "stream",
     "text": [
      "0 1\n",
      "1 2\n",
      "2 3\n",
      "3 4\n",
      "4 5\n",
      "5 6\n"
     ]
    }
   ],
   "source": [
    "for i in range(len(t)):\n",
    "    print(i, t[i])                                                             #tuple of ith place"
   ]
  },
  {
   "cell_type": "code",
   "execution_count": 90,
   "id": "9f397d10",
   "metadata": {},
   "outputs": [],
   "source": [
    "t1 = (8,6,55,99,22,44,3)"
   ]
  },
  {
   "cell_type": "code",
   "execution_count": 91,
   "id": "6cb055d3",
   "metadata": {},
   "outputs": [
    {
     "name": "stdout",
     "output_type": "stream",
     "text": [
      "3\n",
      "44\n",
      "22\n",
      "99\n",
      "55\n",
      "6\n",
      "8\n"
     ]
    }
   ],
   "source": [
    "for i in range(len(t1)-1,-1,-1):\n",
    "    print(t1[i])"
   ]
  },
  {
   "cell_type": "code",
   "execution_count": 92,
   "id": "0ba48229",
   "metadata": {},
   "outputs": [
    {
     "data": {
      "text/plain": [
       "{'a': 'fsfds',\n",
       " 'b': 'fsds',\n",
       " 'c': [1, 2, 3, 4, 5],\n",
       " 'd': (4, 5, 6, 7),\n",
       " 'e': 'sudh'}"
      ]
     },
     "execution_count": 92,
     "metadata": {},
     "output_type": "execute_result"
    }
   ],
   "source": [
    "d"
   ]
  },
  {
   "cell_type": "code",
   "execution_count": 93,
   "id": "6d3f43d7",
   "metadata": {},
   "outputs": [
    {
     "data": {
      "text/plain": [
       "5"
      ]
     },
     "execution_count": 93,
     "metadata": {},
     "output_type": "execute_result"
    }
   ],
   "source": [
    "len(d)"
   ]
  },
  {
   "cell_type": "code",
   "execution_count": 96,
   "id": "84a5677e",
   "metadata": {},
   "outputs": [
    {
     "name": "stdout",
     "output_type": "stream",
     "text": [
      "a\n",
      "b\n",
      "c\n",
      "d\n",
      "e\n"
     ]
    }
   ],
   "source": [
    "for i in d:\n",
    "    print(i)"
   ]
  },
  {
   "cell_type": "code",
   "execution_count": 97,
   "id": "a8e09025",
   "metadata": {},
   "outputs": [
    {
     "data": {
      "text/plain": [
       "'fsfds'"
      ]
     },
     "execution_count": 97,
     "metadata": {},
     "output_type": "execute_result"
    }
   ],
   "source": [
    "d['a']"
   ]
  },
  {
   "cell_type": "code",
   "execution_count": 99,
   "id": "db85d39d",
   "metadata": {},
   "outputs": [
    {
     "name": "stdout",
     "output_type": "stream",
     "text": [
      "a fsfds\n",
      "b fsds\n",
      "c [1, 2, 3, 4, 5]\n",
      "d (4, 5, 6, 7)\n",
      "e sudh\n"
     ]
    }
   ],
   "source": [
    "for i in d:\n",
    "    print(i,d[i])"
   ]
  },
  {
   "cell_type": "code",
   "execution_count": 102,
   "id": "074c5713",
   "metadata": {},
   "outputs": [
    {
     "name": "stdout",
     "output_type": "stream",
     "text": [
      "('a', 'fsfds')\n",
      "('b', 'fsds')\n",
      "('c', [1, 2, 3, 4, 5])\n",
      "('d', (4, 5, 6, 7))\n",
      "('e', 'sudh')\n"
     ]
    }
   ],
   "source": [
    "for i in d.items():\n",
    "    print(i)"
   ]
  },
  {
   "cell_type": "code",
   "execution_count": 103,
   "id": "521cae36",
   "metadata": {},
   "outputs": [],
   "source": [
    "s = { 5,66,77,88,44,33,33,333,44,44,44,77,0}"
   ]
  },
  {
   "cell_type": "code",
   "execution_count": 104,
   "id": "28bb8b3b",
   "metadata": {},
   "outputs": [
    {
     "data": {
      "text/plain": [
       "{0, 5, 33, 44, 66, 77, 88, 333}"
      ]
     },
     "execution_count": 104,
     "metadata": {},
     "output_type": "execute_result"
    }
   ],
   "source": [
    "s"
   ]
  },
  {
   "cell_type": "code",
   "execution_count": 106,
   "id": "68eed454",
   "metadata": {},
   "outputs": [
    {
     "data": {
      "text/plain": [
       "8"
      ]
     },
     "execution_count": 106,
     "metadata": {},
     "output_type": "execute_result"
    }
   ],
   "source": [
    "len(s)"
   ]
  },
  {
   "cell_type": "code",
   "execution_count": 105,
   "id": "63cf1ac3",
   "metadata": {},
   "outputs": [
    {
     "name": "stdout",
     "output_type": "stream",
     "text": [
      "0\n",
      "33\n",
      "66\n",
      "5\n",
      "44\n",
      "77\n",
      "333\n",
      "88\n"
     ]
    }
   ],
   "source": [
    "for  i in s:\n",
    "    print(i)"
   ]
  },
  {
   "cell_type": "code",
   "execution_count": 108,
   "id": "45319bbf",
   "metadata": {},
   "outputs": [],
   "source": [
    "s = \"This is basic python class\""
   ]
  },
  {
   "cell_type": "code",
   "execution_count": 109,
   "id": "96f2b09b",
   "metadata": {},
   "outputs": [
    {
     "data": {
      "text/plain": [
       "26"
      ]
     },
     "execution_count": 109,
     "metadata": {},
     "output_type": "execute_result"
    }
   ],
   "source": [
    "len(s)"
   ]
  },
  {
   "cell_type": "code",
   "execution_count": 112,
   "id": "4ed47674",
   "metadata": {},
   "outputs": [
    {
     "name": "stdout",
     "output_type": "stream",
     "text": [
      "26\n"
     ]
    }
   ],
   "source": [
    "count = 0 \n",
    "for i in s :\n",
    "    #count = count +1\n",
    "    count+=1\n",
    "print(count)\n",
    "\n",
    "    "
   ]
  },
  {
   "cell_type": "code",
   "execution_count": 113,
   "id": "bd0c9870",
   "metadata": {},
   "outputs": [
    {
     "data": {
      "text/plain": [
       "'ssalc nohtyp cisab si sihT'"
      ]
     },
     "execution_count": 113,
     "metadata": {},
     "output_type": "execute_result"
    }
   ],
   "source": [
    "s[::-1]"
   ]
  },
  {
   "cell_type": "code",
   "execution_count": 119,
   "id": "1e17aeb7",
   "metadata": {},
   "outputs": [
    {
     "name": "stdout",
     "output_type": "stream",
     "text": [
      "s\n",
      "s\n",
      "a\n",
      "l\n",
      "c\n",
      " \n",
      "n\n",
      "o\n",
      "h\n",
      "t\n",
      "y\n",
      "p\n",
      " \n",
      "c\n",
      "i\n",
      "s\n",
      "a\n",
      "b\n",
      " \n",
      "s\n",
      "i\n",
      " \n",
      "s\n",
      "i\n",
      "h\n",
      "T\n"
     ]
    }
   ],
   "source": [
    "l = []\n",
    "for i in range(len(s)-1,-1,-1):\n",
    "    print(s[i])"
   ]
  },
  {
   "cell_type": "code",
   "execution_count": 120,
   "id": "ed752f71",
   "metadata": {},
   "outputs": [
    {
     "name": "stdout",
     "output_type": "stream",
     "text": [
      "ssalc nohtyp cisab si sihT"
     ]
    }
   ],
   "source": [
    "i = len(s)-1\n",
    "while (i>=0):\n",
    "    print(s[i], end=\"\")\n",
    "    i = i-1"
   ]
  },
  {
   "cell_type": "code",
   "execution_count": 126,
   "id": "b9e48701",
   "metadata": {},
   "outputs": [],
   "source": [
    "s = \"ineuron\"\n",
    "v = \"AaEeIiOoUu\""
   ]
  },
  {
   "cell_type": "code",
   "execution_count": 127,
   "id": "97ad44b3",
   "metadata": {},
   "outputs": [
    {
     "name": "stdout",
     "output_type": "stream",
     "text": [
      "vowel i\n",
      "not vowel n\n",
      "vowel e\n",
      "vowel u\n",
      "not vowel r\n",
      "vowel o\n",
      "not vowel n\n"
     ]
    }
   ],
   "source": [
    "for i in s:\n",
    "    if i in v :\n",
    "        print(\"vowel\",i)\n",
    "    else:\n",
    "        print(\"not vowel\",i)"
   ]
  },
  {
   "cell_type": "code",
   "execution_count": 131,
   "id": "9afef3f1",
   "metadata": {},
   "outputs": [
    {
     "data": {
      "text/plain": [
       "True"
      ]
     },
     "execution_count": 131,
     "metadata": {},
     "output_type": "execute_result"
    }
   ],
   "source": [
    "\"u\" in \"sudh\""
   ]
  },
  {
   "cell_type": "code",
   "execution_count": 133,
   "id": "8ca285d8",
   "metadata": {},
   "outputs": [
    {
     "data": {
      "text/plain": [
       "'malayalam'"
      ]
     },
     "execution_count": 133,
     "metadata": {},
     "output_type": "execute_result"
    }
   ],
   "source": [
    "m = \"malayalam\""
   ]
  },
  {
   "cell_type": "code",
   "execution_count": 135,
   "id": "ea107f3e",
   "metadata": {},
   "outputs": [
    {
     "name": "stdout",
     "output_type": "stream",
     "text": [
      "eye\n",
      "pallindrome\n"
     ]
    }
   ],
   "source": [
    "s = input()\n",
    "v = s[::-1]\n",
    "if s == v:\n",
    "    print(\"pallindrome\")\n",
    "else:\n",
    "    print(\"not pallindrome\")"
   ]
  },
  {
   "cell_type": "code",
   "execution_count": 143,
   "id": "a90c84c7",
   "metadata": {},
   "outputs": [
    {
     "name": "stdout",
     "output_type": "stream",
     "text": [
      "not pallindrome\n"
     ]
    }
   ],
   "source": [
    "word = 'tuniniut'\n",
    "for i in range(len(word)):\n",
    "    if word[i]!=word[len(word)-i-1]:\n",
    "        print(\"not pallindrome\")\n",
    "        break\n",
    "else:\n",
    "    print(\"pallindrome\")"
   ]
  },
  {
   "cell_type": "code",
   "execution_count": 144,
   "id": "ddd6451c",
   "metadata": {},
   "outputs": [],
   "source": [
    "d = {\"india\":\"IN\", \"canada\":\"CA\", \"china\":\"CH\", \"unites states\":\"US\"}"
   ]
  },
  {
   "cell_type": "code",
   "execution_count": 145,
   "id": "45b2822d",
   "metadata": {},
   "outputs": [
    {
     "data": {
      "text/plain": [
       "True"
      ]
     },
     "execution_count": 145,
     "metadata": {},
     "output_type": "execute_result"
    }
   ],
   "source": [
    "\"india\" in d"
   ]
  },
  {
   "cell_type": "code",
   "execution_count": 146,
   "id": "857874b0",
   "metadata": {},
   "outputs": [
    {
     "data": {
      "text/plain": [
       "4"
      ]
     },
     "execution_count": 146,
     "metadata": {},
     "output_type": "execute_result"
    }
   ],
   "source": [
    "len(d)"
   ]
  },
  {
   "cell_type": "code",
   "execution_count": 157,
   "id": "7b4f9200",
   "metadata": {},
   "outputs": [],
   "source": [
    "l_greater = []\n",
    "l_smaller = []\n",
    "for i in d:\n",
    "    if len(i)>5:\n",
    "        l_greater.append(i)\n",
    "    else:\n",
    "         l_smaller.append(i)\n",
    "\n",
    "    \n",
    "    "
   ]
  },
  {
   "cell_type": "code",
   "execution_count": 158,
   "id": "e0b57d27",
   "metadata": {},
   "outputs": [
    {
     "data": {
      "text/plain": [
       "['canada', 'unites states']"
      ]
     },
     "execution_count": 158,
     "metadata": {},
     "output_type": "execute_result"
    }
   ],
   "source": [
    "l_greater"
   ]
  },
  {
   "cell_type": "code",
   "execution_count": 159,
   "id": "3f4269a3",
   "metadata": {},
   "outputs": [
    {
     "data": {
      "text/plain": [
       "['india', 'china']"
      ]
     },
     "execution_count": 159,
     "metadata": {},
     "output_type": "execute_result"
    }
   ],
   "source": [
    "l_smaller"
   ]
  },
  {
   "cell_type": "code",
   "execution_count": 204,
   "id": "b2f2822c",
   "metadata": {},
   "outputs": [],
   "source": [
    "d1 = {\"ineuron\":{\n",
    "                  \"a\":14,\n",
    "                  \"b\":10,\n",
    "                  \"c\":4\n",
    "                 },\n",
    "                \"course\": {'d':45,\n",
    "                \"e\":34,\n",
    "                \"f\":1\n",
    "                }    \n",
    "}"
   ]
  },
  {
   "cell_type": "code",
   "execution_count": null,
   "id": "e2aab414",
   "metadata": {},
   "outputs": [],
   "source": [
    "for i in d.items:\n",
    "    "
   ]
  },
  {
   "cell_type": "code",
   "execution_count": 196,
   "id": "36a630bf",
   "metadata": {},
   "outputs": [
    {
     "name": "stdout",
     "output_type": "stream",
     "text": [
      "14\n",
      "45\n"
     ]
    }
   ],
   "source": [
    "l1=[]\n",
    "for i in d1.values():\n",
    "    for j in i.values():\n",
    "        l1.append(j)\n",
    "    print(max(l1))"
   ]
  },
  {
   "cell_type": "code",
   "execution_count": 212,
   "id": "ac2c7ffb",
   "metadata": {},
   "outputs": [
    {
     "name": "stdout",
     "output_type": "stream",
     "text": [
      "14\n",
      "45\n"
     ]
    }
   ],
   "source": [
    "for i in d1.values():\n",
    "    print(max(i.values()))"
   ]
  },
  {
   "cell_type": "code",
   "execution_count": 4,
   "id": "fc778c66",
   "metadata": {},
   "outputs": [],
   "source": [
    "d2= {\"ineuron\":{\"a\":14,\"b\":10,\"c\":4},\"course\":{\"d\":45,\"e\":34,\"f\":1},\"g\":34,\"h\":[45,6,7,8,967],'i':(45,34,2),'k':\"push\"}"
   ]
  },
  {
   "cell_type": "code",
   "execution_count": 5,
   "id": "1268a622",
   "metadata": {},
   "outputs": [
    {
     "data": {
      "text/plain": [
       "dict_values([{'a': 14, 'b': 10, 'c': 4}, {'d': 45, 'e': 34, 'f': 1}, 34, [45, 6, 7, 8, 967], (45, 34, 2), 'push'])"
      ]
     },
     "execution_count": 5,
     "metadata": {},
     "output_type": "execute_result"
    }
   ],
   "source": [
    "d2.values()"
   ]
  },
  {
   "cell_type": "code",
   "execution_count": 6,
   "id": "61f53e1c",
   "metadata": {},
   "outputs": [
    {
     "name": "stdout",
     "output_type": "stream",
     "text": [
      "967\n"
     ]
    }
   ],
   "source": [
    "l=[]\n",
    "for i in d2.values():\n",
    "    if type(i)== dict:\n",
    "        l.append(max(i.values()))\n",
    "    elif type(i)== list:\n",
    "        l.append(max(i))\n",
    "    elif type(i) == tuple:\n",
    "        l.append(max(i))\n",
    "    elif type(i) == str:\n",
    "        pass\n",
    "    else:\n",
    "        l.append(i)\n",
    "print(max(l))"
   ]
  },
  {
   "cell_type": "code",
   "execution_count": null,
   "id": "325632c4",
   "metadata": {},
   "outputs": [],
   "source": []
  }
 ],
 "metadata": {
  "kernelspec": {
   "display_name": "Python 3 (ipykernel)",
   "language": "python",
   "name": "python3"
  },
  "language_info": {
   "codemirror_mode": {
    "name": "ipython",
    "version": 3
   },
   "file_extension": ".py",
   "mimetype": "text/x-python",
   "name": "python",
   "nbconvert_exporter": "python",
   "pygments_lexer": "ipython3",
   "version": "3.9.7"
  }
 },
 "nbformat": 4,
 "nbformat_minor": 5
}
