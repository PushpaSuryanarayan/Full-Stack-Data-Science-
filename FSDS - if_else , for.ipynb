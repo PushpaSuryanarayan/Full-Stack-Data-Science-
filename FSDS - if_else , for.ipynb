{
 "cells": [
  {
   "cell_type": "code",
   "execution_count": 1,
   "id": "d89f9a97",
   "metadata": {},
   "outputs": [],
   "source": [
    "# control flow - if else statement"
   ]
  },
  {
   "cell_type": "code",
   "execution_count": 2,
   "id": "77387026",
   "metadata": {},
   "outputs": [],
   "source": [
    "a = 10 "
   ]
  },
  {
   "cell_type": "code",
   "execution_count": 9,
   "id": "0a0bba27",
   "metadata": {},
   "outputs": [],
   "source": [
    "if a < 15 :                                                         # if you dont want to write anything inside we can just pass\n",
    "    pass"
   ]
  },
  {
   "cell_type": "code",
   "execution_count": 7,
   "id": "66ae30c1",
   "metadata": {},
   "outputs": [
    {
     "name": "stdout",
     "output_type": "stream",
     "text": [
      "my name is gowtham\n"
     ]
    }
   ],
   "source": [
    "if a < 15 :                                                              #indentation (:) is important otherwise throws arror \n",
    "    print (\"my name is gowtham\")"
   ]
  },
  {
   "cell_type": "code",
   "execution_count": 6,
   "id": "2f60c754",
   "metadata": {},
   "outputs": [
    {
     "data": {
      "text/plain": [
       "True"
      ]
     },
     "execution_count": 6,
     "metadata": {},
     "output_type": "execute_result"
    }
   ],
   "source": [
    "a<15"
   ]
  },
  {
   "cell_type": "code",
   "execution_count": 13,
   "id": "f7a3ffa8",
   "metadata": {},
   "outputs": [],
   "source": [
    "if 24 < 15 : \n",
    "    print (\"my name is gowtham\")"
   ]
  },
  {
   "cell_type": "code",
   "execution_count": 12,
   "id": "7b1c8781",
   "metadata": {},
   "outputs": [
    {
     "data": {
      "text/plain": [
       "False"
      ]
     },
     "execution_count": 12,
     "metadata": {},
     "output_type": "execute_result"
    }
   ],
   "source": [
    "24 < 15  "
   ]
  },
  {
   "cell_type": "code",
   "execution_count": 14,
   "id": "1c5d6c3d",
   "metadata": {},
   "outputs": [
    {
     "name": "stdout",
     "output_type": "stream",
     "text": [
      "if statement is wrong\n"
     ]
    }
   ],
   "source": [
    "if 10 < 3:\n",
    "    print (\"10 is lesser than 3\")\n",
    "else:\n",
    "    print (\"if statement is wrong\")"
   ]
  },
  {
   "cell_type": "code",
   "execution_count": 15,
   "id": "48b23454",
   "metadata": {},
   "outputs": [
    {
     "name": "stdout",
     "output_type": "stream",
     "text": [
      "10 is lesser than 3\n"
     ]
    }
   ],
   "source": [
    "if 5 < 10:\n",
    "    print (\"10 is lesser than 3\")\n",
    "else:\n",
    "    print (\"if statement is wrong\")"
   ]
  },
  {
   "cell_type": "code",
   "execution_count": 1,
   "id": "b2bc9452",
   "metadata": {},
   "outputs": [
    {
     "name": "stdout",
     "output_type": "stream",
     "text": [
      "10\n",
      " i will be able to buy a phone\n"
     ]
    }
   ],
   "source": [
    "income = int(input())\n",
    "if income < 50 :\n",
    "    print (\" i will be able to buy a phone\")\n",
    "elif income < 70 :\n",
    "    print (\" i will be able to buy a car\")\n",
    "elif income < 90 :\n",
    "    print (\" i will be able to rent a house\")\n",
    "else:\n",
    "    print (\" i will not be able to buy anything\")\n",
    "    "
   ]
  },
  {
   "cell_type": "code",
   "execution_count": 4,
   "id": "8bf8cbc7",
   "metadata": {},
   "outputs": [
    {
     "name": "stdout",
     "output_type": "stream",
     "text": [
      "5894\n",
      "discount will be  294.7\n"
     ]
    }
   ],
   "source": [
    "total_price = int(input())\n",
    "if total_price > 20000:\n",
    "    discount  = total_price * 0.2\n",
    "    print (\"discount will be \", discount)\n",
    "elif total_price <= 7000:\n",
    "    discount = total_price * 0.05\n",
    "    print (\"discount will be \", discount)\n",
    "else:\n",
    "    print (\" wont be able to give any discount\")"
   ]
  },
  {
   "cell_type": "code",
   "execution_count": 7,
   "id": "bba865b3",
   "metadata": {},
   "outputs": [
    {
     "name": "stdout",
     "output_type": "stream",
     "text": [
      "SUDHANSHU5\n",
      " you will be able to get a discount of 5%\n",
      " you will be able to get one neuron with this amount  6726.0\n"
     ]
    }
   ],
   "source": [
    "coup = input()\n",
    "if coup == \"SUDHANSHU5\":\n",
    "    print (\" you will be able to get a discount of 5%\")\n",
    "    paid_amount = 7080 - (7080 * 0.05)\n",
    "    print (\" you will be able to get one neuron with this amount \", paid_amount)\n",
    "else:\n",
    "    print (\"kindly use a valid coupon code \")"
   ]
  },
  {
   "cell_type": "code",
   "execution_count": 8,
   "id": "35328f19",
   "metadata": {},
   "outputs": [
    {
     "name": "stdout",
     "output_type": "stream",
     "text": [
      "5\n",
      "it may take 5 months of time to make a transition\n"
     ]
    }
   ],
   "source": [
    "study_hour = int(input()) \n",
    "if study_hour < 1:\n",
    "    print(\"it may take 8-9 months of time to make a transition\")\n",
    "elif study_hour < 4 and study_hour > 1:\n",
    "    print (\"it may take 6 months of time to make a transition \")\n",
    "elif study_hour < 10 and study_hour > 4 :\n",
    "    print (\"it may take 5 months of time to make a transition\")\n",
    "elif study_hour > 10 :\n",
    "    print (\"it may take 3 months of time to make a transition \")\n",
    "else:\n",
    "    print (\" it will be difficult to make a transition\")"
   ]
  },
  {
   "cell_type": "code",
   "execution_count": 13,
   "id": "73c9c0ca",
   "metadata": {},
   "outputs": [
    {
     "name": "stdout",
     "output_type": "stream",
     "text": [
      "3\n",
      "study consistently \n"
     ]
    }
   ],
   "source": [
    "study =float(input())\n",
    "if study <1:\n",
    "    print(\"study more\")\n",
    "elif study > 2 and study < 4.5:\n",
    "    print (\"study consistently \")\n",
    "else:\n",
    "    print(\"start studying\")"
   ]
  },
  {
   "cell_type": "code",
   "execution_count": 12,
   "id": "8a05f043",
   "metadata": {},
   "outputs": [
    {
     "name": "stdout",
     "output_type": "stream",
     "text": [
      "valid\n"
     ]
    }
   ],
   "source": [
    "a = 9\n",
    "if a == 9 :\n",
    "    print (\"valid\")"
   ]
  },
  {
   "cell_type": "code",
   "execution_count": 17,
   "id": "c8814247",
   "metadata": {},
   "outputs": [
    {
     "name": "stdout",
     "output_type": "stream",
     "text": [
      "enter a string to startoneneuron\n",
      " enter course name yuh\n",
      " enter service name job\n",
      "kindly connect with our team \n"
     ]
    }
   ],
   "source": [
    "s = input(\"enter a string to start\")\n",
    "course= input(\" enter course name \")\n",
    "service= input(\" enter service name \")\n",
    "if s == \"ineuron\":\n",
    "    if course == \"DSA\":\n",
    "        print (\"yes its available under oneneuron and in multiple modes for job preparation and core concepts\")\n",
    "    elif course == \"Blockchain\":\n",
    "        print (\" this is not available as of now  , kindly raise your demand and we will fullfill in 60 days\")\n",
    "    elif course == \"FSDS\":\n",
    "        print (\"yes it is available and you can start learning \")\n",
    "    else:\n",
    "        print(\"this course is not available kindly raise your demand \")\n",
    "elif s == \"oneneuronservice\":\n",
    "    if service == \"courserequest\":\n",
    "        print(\"this is not available as of now  , kindly raise your demand and we will fullfill in 60 days\")\n",
    "    elif service == \"module\":\n",
    "        print(\"this is not available as of now  , kindly raise your demand and we will fullfill in 30 days\")\n",
    "    elif service == \"doubt\":\n",
    "        print (\"kindly raise your demand and we will fullfill in 24 hours\")\n",
    "    else:\n",
    "        print(\"kindly provide your feedback and we will fulfill\")\n",
    "        \n",
    "else :\n",
    "    print (\"kindly connect with our team \")"
   ]
  },
  {
   "cell_type": "code",
   "execution_count": 20,
   "id": "72aeab59",
   "metadata": {},
   "outputs": [
    {
     "name": "stdout",
     "output_type": "stream",
     "text": [
      "1\n",
      "2\n",
      "3\n",
      "4\n",
      "5\n",
      "6\n",
      "7\n"
     ]
    }
   ],
   "source": [
    "l = [1,2,3,4,5,6,7]\n",
    "for i in l:\n",
    "    print(i)"
   ]
  },
  {
   "cell_type": "code",
   "execution_count": 21,
   "id": "f1d47ac2",
   "metadata": {},
   "outputs": [
    {
     "name": "stdout",
     "output_type": "stream",
     "text": [
      "s\n",
      "u\n",
      "d\n",
      "h\n"
     ]
    }
   ],
   "source": [
    "s = \"sudh\"\n",
    "for i in s:\n",
    "    print(i)"
   ]
  },
  {
   "cell_type": "code",
   "execution_count": 22,
   "id": "b553d088",
   "metadata": {},
   "outputs": [
    {
     "name": "stdout",
     "output_type": "stream",
     "text": [
      "s\n",
      "u\n",
      "d\n",
      "h\n"
     ]
    }
   ],
   "source": [
    "for i in \"sudh\":\n",
    "    print(i)"
   ]
  },
  {
   "cell_type": "code",
   "execution_count": 23,
   "id": "1fdb2e64",
   "metadata": {},
   "outputs": [
    {
     "name": "stdout",
     "output_type": "stream",
     "text": [
      "1\n",
      "2\n",
      "3\n",
      "4\n",
      "5\n",
      "6\n",
      "6\n"
     ]
    }
   ],
   "source": [
    "t = (1,2,3,4,5,6,6)\n",
    "for i in t:\n",
    "    print(i)\n"
   ]
  },
  {
   "cell_type": "code",
   "execution_count": 25,
   "id": "01dc615b",
   "metadata": {},
   "outputs": [
    {
     "name": "stdout",
     "output_type": "stream",
     "text": [
      "<class 'int'> type of  1\n",
      "<class 'int'> type of  4\n",
      "<class 'float'> type of  5.6\n",
      "<class 'complex'> type of  4.7j\n",
      "<class 'str'> type of  push\n"
     ]
    }
   ],
   "source": [
    "l = [1,4,5.6,4.7j,'push']\n",
    "for i in l:\n",
    "    print(type(i), \"type of \", i)"
   ]
  },
  {
   "cell_type": "code",
   "execution_count": 28,
   "id": "6674205e",
   "metadata": {},
   "outputs": [
    {
     "name": "stdout",
     "output_type": "stream",
     "text": [
      "5\n",
      "6\n",
      "7.6\n",
      "9.8\n",
      "(8+4j)\n"
     ]
    }
   ],
   "source": [
    "l = [3,4,5.6,7.8,6+4j]\n",
    "l1=[]\n",
    "for i in l:\n",
    "    print(i+2)\n",
    "    l1.append(i+2)"
   ]
  },
  {
   "cell_type": "code",
   "execution_count": 29,
   "id": "6ef6e68e",
   "metadata": {},
   "outputs": [
    {
     "data": {
      "text/plain": [
       "[5, 6, 7.6, 9.8, (8+4j)]"
      ]
     },
     "execution_count": 29,
     "metadata": {},
     "output_type": "execute_result"
    }
   ],
   "source": [
    "l1"
   ]
  },
  {
   "cell_type": "code",
   "execution_count": 36,
   "id": "eb21151f",
   "metadata": {},
   "outputs": [
    {
     "name": "stdout",
     "output_type": "stream",
     "text": [
      "2\n",
      "4\n",
      "78\n",
      "5\n",
      "6\n",
      "7\n",
      "8\n"
     ]
    }
   ],
   "source": [
    "l = [2,4,78,9.0,5.6,7.9j,[5,6,7,8,'k'],\"push\"]\n",
    "for i in l:\n",
    "    if type(i) == int:\n",
    "        print(i)\n",
    "    elif type(i) == list:\n",
    "        for j in i:\n",
    "            if type(j) == int:\n",
    "               print(j) \n",
    "            \n",
    "        "
   ]
  },
  {
   "cell_type": "code",
   "execution_count": 81,
   "id": "b88bdee3",
   "metadata": {},
   "outputs": [],
   "source": [
    "l = [2,45,78,12,12,12,12,\"sudh\",6+7j,[56,67,78,'dsfd'],\"kumar\"]"
   ]
  },
  {
   "cell_type": "code",
   "execution_count": 65,
   "id": "56b83095",
   "metadata": {},
   "outputs": [
    {
     "name": "stdout",
     "output_type": "stream",
     "text": [
      "0 index of  2\n",
      "1 index of  45\n",
      "2 index of  78\n",
      "3 index of  12\n",
      "3 index of  12\n",
      "3 index of  12\n",
      "3 index of  12\n",
      "7 index of  sudh\n",
      "8 index of  (6+7j)\n",
      "9 index of  [56, 67, 78, 'dsfd']\n"
     ]
    }
   ],
   "source": [
    "for i in l:\n",
    "    print(l.index(i), \"index of \",i)                                         # this solution is not advisable because if items are repetitive it gives the index of first element alone "
   ]
  },
  {
   "cell_type": "code",
   "execution_count": 70,
   "id": "09f27116",
   "metadata": {},
   "outputs": [
    {
     "name": "stdout",
     "output_type": "stream",
     "text": [
      "index 0 for element 2\n",
      "index 1 for element 45\n",
      "index 2 for element 78\n",
      "index 3 for element 12\n",
      "index 4 for element 12\n",
      "index 5 for element 12\n",
      "index 6 for element 12\n",
      "index 7 for element sudh\n",
      "index 8 for element (6+7j)\n",
      "index 9 for element [56, 67, 78, 'dsfd']\n"
     ]
    }
   ],
   "source": [
    "for i in range(len(l)):\n",
    "    print('index',i, \"for element\",l[i])\n"
   ]
  },
  {
   "cell_type": "code",
   "execution_count": 74,
   "id": "8ce3e7cc",
   "metadata": {},
   "outputs": [
    {
     "name": "stdout",
     "output_type": "stream",
     "text": [
      "(0, 2)\n",
      "(1, 45)\n",
      "(2, 78)\n",
      "(3, 12)\n",
      "(4, 12)\n",
      "(5, 12)\n",
      "(6, 12)\n",
      "(7, 'sudh')\n",
      "(8, (6+7j))\n",
      "(9, [56, 67, 78, 'dsfd'])\n"
     ]
    }
   ],
   "source": [
    "for i in enumerate(l):\n",
    "    print(i)                                                          #returns a tuple of its element and its respective index"
   ]
  },
  {
   "cell_type": "code",
   "execution_count": 73,
   "id": "6c204448",
   "metadata": {},
   "outputs": [
    {
     "name": "stdout",
     "output_type": "stream",
     "text": [
      "0 2\n",
      "1 45\n",
      "2 78\n",
      "3 12\n",
      "4 12\n",
      "5 12\n",
      "6 12\n",
      "7 sudh\n",
      "8 (6+7j)\n",
      "9 [56, 67, 78, 'dsfd']\n"
     ]
    }
   ],
   "source": [
    "for i,j in enumerate(l):\n",
    "    print(i,j)"
   ]
  },
  {
   "cell_type": "code",
   "execution_count": 82,
   "id": "600796b1",
   "metadata": {},
   "outputs": [
    {
     "name": "stdout",
     "output_type": "stream",
     "text": [
      "['s', 'u', 'd', 'h']\n",
      "['k', 'u', 'm', 'a', 'r']\n"
     ]
    }
   ],
   "source": [
    "for i in l :\n",
    "    if type(i) == str:\n",
    "        l1 = []\n",
    "        for j in i:\n",
    "            l1.append(j)\n",
    "        print(l1)"
   ]
  },
  {
   "cell_type": "code",
   "execution_count": 91,
   "id": "e74bdeeb",
   "metadata": {},
   "outputs": [],
   "source": [
    "l2=[]\n",
    "for i in l:\n",
    "    if type(i) == int:\n",
    "        l2.append(i**2) \n",
    "                        "
   ]
  },
  {
   "cell_type": "code",
   "execution_count": 92,
   "id": "15954f08",
   "metadata": {},
   "outputs": [
    {
     "data": {
      "text/plain": [
       "[4, 2025, 6084, 144, 144, 144, 144]"
      ]
     },
     "execution_count": 92,
     "metadata": {},
     "output_type": "execute_result"
    }
   ],
   "source": [
    "l2"
   ]
  },
  {
   "cell_type": "code",
   "execution_count": 95,
   "id": "4b56a895",
   "metadata": {},
   "outputs": [
    {
     "name": "stdout",
     "output_type": "stream",
     "text": [
      "4\n",
      "2025\n",
      "6084\n",
      "144\n",
      "144\n",
      "144\n",
      "144\n",
      "3136\n",
      "4489\n",
      "6084\n"
     ]
    }
   ],
   "source": [
    "for i in l:\n",
    "    if type(i) == int:\n",
    "        print(i**2)\n",
    "    elif type(i) == list:\n",
    "        for j in i:\n",
    "            if type(j) == int:\n",
    "               print(j**2) "
   ]
  },
  {
   "cell_type": "code",
   "execution_count": null,
   "id": "c6f93821",
   "metadata": {},
   "outputs": [],
   "source": []
  }
 ],
 "metadata": {
  "kernelspec": {
   "display_name": "Python 3 (ipykernel)",
   "language": "python",
   "name": "python3"
  },
  "language_info": {
   "codemirror_mode": {
    "name": "ipython",
    "version": 3
   },
   "file_extension": ".py",
   "mimetype": "text/x-python",
   "name": "python",
   "nbconvert_exporter": "python",
   "pygments_lexer": "ipython3",
   "version": "3.9.7"
  }
 },
 "nbformat": 4,
 "nbformat_minor": 5
}
