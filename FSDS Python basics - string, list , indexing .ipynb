{
 "cells": [
  {
   "cell_type": "code",
   "execution_count": 1,
   "id": "45fff0dc",
   "metadata": {},
   "outputs": [
    {
     "data": {
      "text/plain": [
       "2"
      ]
     },
     "execution_count": 1,
     "metadata": {},
     "output_type": "execute_result"
    }
   ],
   "source": [
    "1+1"
   ]
  },
  {
   "cell_type": "code",
   "execution_count": 3,
   "id": "5f8d3889",
   "metadata": {},
   "outputs": [
    {
     "data": {
      "text/plain": [
       "'Hello world!'"
      ]
     },
     "execution_count": 3,
     "metadata": {},
     "output_type": "execute_result"
    }
   ],
   "source": [
    "\"Hello world!\""
   ]
  },
  {
   "cell_type": "code",
   "execution_count": 4,
   "id": "031f2b7b",
   "metadata": {},
   "outputs": [
    {
     "data": {
      "text/plain": [
       "'C:\\\\Users\\\\p.suryanarayana'"
      ]
     },
     "execution_count": 4,
     "metadata": {},
     "output_type": "execute_result"
    }
   ],
   "source": [
    "pwd"
   ]
  },
  {
   "cell_type": "code",
   "execution_count": 5,
   "id": "bcdc0fd2",
   "metadata": {},
   "outputs": [
    {
     "name": "stdout",
     "output_type": "stream",
     "text": [
      "The Zen of Python, by Tim Peters\n",
      "\n",
      "Beautiful is better than ugly.\n",
      "Explicit is better than implicit.\n",
      "Simple is better than complex.\n",
      "Complex is better than complicated.\n",
      "Flat is better than nested.\n",
      "Sparse is better than dense.\n",
      "Readability counts.\n",
      "Special cases aren't special enough to break the rules.\n",
      "Although practicality beats purity.\n",
      "Errors should never pass silently.\n",
      "Unless explicitly silenced.\n",
      "In the face of ambiguity, refuse the temptation to guess.\n",
      "There should be one-- and preferably only one --obvious way to do it.\n",
      "Although that way may not be obvious at first unless you're Dutch.\n",
      "Now is better than never.\n",
      "Although never is often better than *right* now.\n",
      "If the implementation is hard to explain, it's a bad idea.\n",
      "If the implementation is easy to explain, it may be a good idea.\n",
      "Namespaces are one honking great idea -- let's do more of those!\n"
     ]
    }
   ],
   "source": [
    "import this"
   ]
  },
  {
   "cell_type": "code",
   "execution_count": 7,
   "id": "b325e8ea",
   "metadata": {},
   "outputs": [
    {
     "name": "stdout",
     "output_type": "stream",
     "text": [
      "hi python we met again!\n"
     ]
    }
   ],
   "source": [
    "print(\"hi python we met again!\")"
   ]
  },
  {
   "cell_type": "code",
   "execution_count": 11,
   "id": "c020b004",
   "metadata": {},
   "outputs": [
    {
     "data": {
      "text/plain": [
       "3"
      ]
     },
     "execution_count": 11,
     "metadata": {},
     "output_type": "execute_result"
    }
   ],
   "source": [
    "1+2"
   ]
  },
  {
   "cell_type": "code",
   "execution_count": 12,
   "id": "cd405051",
   "metadata": {},
   "outputs": [
    {
     "data": {
      "text/plain": [
       "0.42857142857142855"
      ]
     },
     "execution_count": 12,
     "metadata": {},
     "output_type": "execute_result"
    }
   ],
   "source": [
    "3/7"
   ]
  },
  {
   "cell_type": "code",
   "execution_count": 17,
   "id": "761003c0",
   "metadata": {},
   "outputs": [],
   "source": [
    "a=8/2"
   ]
  },
  {
   "cell_type": "code",
   "execution_count": 18,
   "id": "57157cf5",
   "metadata": {},
   "outputs": [
    {
     "data": {
      "text/plain": [
       "float"
      ]
     },
     "execution_count": 18,
     "metadata": {},
     "output_type": "execute_result"
    }
   ],
   "source": [
    "type(a)"
   ]
  },
  {
   "cell_type": "code",
   "execution_count": 19,
   "id": "d8016153",
   "metadata": {},
   "outputs": [],
   "source": [
    "d = \"hub\""
   ]
  },
  {
   "cell_type": "code",
   "execution_count": 20,
   "id": "74cf3424",
   "metadata": {},
   "outputs": [
    {
     "data": {
      "text/plain": [
       "str"
      ]
     },
     "execution_count": 20,
     "metadata": {},
     "output_type": "execute_result"
    }
   ],
   "source": [
    "type(d)"
   ]
  },
  {
   "cell_type": "code",
   "execution_count": 21,
   "id": "c5fecbda",
   "metadata": {},
   "outputs": [],
   "source": [
    "t = 10"
   ]
  },
  {
   "cell_type": "code",
   "execution_count": 22,
   "id": "a6288876",
   "metadata": {},
   "outputs": [
    {
     "data": {
      "text/plain": [
       "int"
      ]
     },
     "execution_count": 22,
     "metadata": {},
     "output_type": "execute_result"
    }
   ],
   "source": [
    "type(t)"
   ]
  },
  {
   "cell_type": "code",
   "execution_count": 23,
   "id": "471c942f",
   "metadata": {},
   "outputs": [],
   "source": [
    "u = 10 + 3j                                      # complex number is a combination of real & imaginary number "
   ]
  },
  {
   "cell_type": "code",
   "execution_count": 25,
   "id": "fb4f857e",
   "metadata": {},
   "outputs": [
    {
     "data": {
      "text/plain": [
       "complex"
      ]
     },
     "execution_count": 25,
     "metadata": {},
     "output_type": "execute_result"
    }
   ],
   "source": [
    "type(u)"
   ]
  },
  {
   "cell_type": "code",
   "execution_count": 26,
   "id": "531f906b",
   "metadata": {},
   "outputs": [],
   "source": [
    "g = True "
   ]
  },
  {
   "cell_type": "code",
   "execution_count": 27,
   "id": "61b6934b",
   "metadata": {},
   "outputs": [
    {
     "data": {
      "text/plain": [
       "bool"
      ]
     },
     "execution_count": 27,
     "metadata": {},
     "output_type": "execute_result"
    }
   ],
   "source": [
    "type(g)"
   ]
  },
  {
   "cell_type": "code",
   "execution_count": 28,
   "id": "75304cce",
   "metadata": {},
   "outputs": [
    {
     "ename": "SyntaxError",
     "evalue": "starred assignment target must be in a list or tuple (Temp/ipykernel_7428/3172581530.py, line 1)",
     "output_type": "error",
     "traceback": [
      "\u001b[1;36m  File \u001b[1;32m\"C:\\Users\\PD1D7~1.SUR\\AppData\\Local\\Temp/ipykernel_7428/3172581530.py\"\u001b[1;36m, line \u001b[1;32m1\u001b[0m\n\u001b[1;33m    *a =98\u001b[0m\n\u001b[1;37m    ^\u001b[0m\n\u001b[1;31mSyntaxError\u001b[0m\u001b[1;31m:\u001b[0m starred assignment target must be in a list or tuple\n"
     ]
    }
   ],
   "source": [
    "*a =98"
   ]
  },
  {
   "cell_type": "code",
   "execution_count": 29,
   "id": "3313ba64",
   "metadata": {},
   "outputs": [],
   "source": [
    "_a = 10"
   ]
  },
  {
   "cell_type": "code",
   "execution_count": 30,
   "id": "a4f9de33",
   "metadata": {},
   "outputs": [],
   "source": [
    "a = 34"
   ]
  },
  {
   "cell_type": "code",
   "execution_count": 31,
   "id": "8d859829",
   "metadata": {},
   "outputs": [
    {
     "data": {
      "text/plain": [
       "34"
      ]
     },
     "execution_count": 31,
     "metadata": {},
     "output_type": "execute_result"
    }
   ],
   "source": [
    "a"
   ]
  },
  {
   "cell_type": "code",
   "execution_count": 32,
   "id": "1abb39b6",
   "metadata": {},
   "outputs": [
    {
     "data": {
      "text/plain": [
       "10"
      ]
     },
     "execution_count": 32,
     "metadata": {},
     "output_type": "execute_result"
    }
   ],
   "source": [
    "_a"
   ]
  },
  {
   "cell_type": "code",
   "execution_count": 33,
   "id": "b4d0f548",
   "metadata": {},
   "outputs": [],
   "source": [
    "a= 56\n",
    "b = \"py\"\n",
    "c = False\n",
    "d = 4+9j\n",
    "e = 0.8976\n"
   ]
  },
  {
   "cell_type": "code",
   "execution_count": 34,
   "id": "bfbc7aca",
   "metadata": {},
   "outputs": [],
   "source": [
    "a1 = 997\n"
   ]
  },
  {
   "cell_type": "code",
   "execution_count": 35,
   "id": "c4053722",
   "metadata": {},
   "outputs": [
    {
     "data": {
      "text/plain": [
       "1053"
      ]
     },
     "execution_count": 35,
     "metadata": {},
     "output_type": "execute_result"
    }
   ],
   "source": [
    "a + a1"
   ]
  },
  {
   "cell_type": "code",
   "execution_count": 42,
   "id": "dcee6cfe",
   "metadata": {},
   "outputs": [
    {
     "ename": "ValueError",
     "evalue": "not enough values to unpack (expected 5, got 3)",
     "output_type": "error",
     "traceback": [
      "\u001b[1;31m---------------------------------------------------------------------------\u001b[0m",
      "\u001b[1;31mValueError\u001b[0m                                Traceback (most recent call last)",
      "\u001b[1;32mC:\\Users\\PD1D7~1.SUR\\AppData\\Local\\Temp/ipykernel_7428/454615657.py\u001b[0m in \u001b[0;36m<module>\u001b[1;34m\u001b[0m\n\u001b[1;32m----> 1\u001b[1;33m \u001b[0ma\u001b[0m\u001b[1;33m,\u001b[0m \u001b[0mb\u001b[0m\u001b[1;33m,\u001b[0m \u001b[0mc\u001b[0m \u001b[1;33m,\u001b[0m \u001b[0md\u001b[0m\u001b[1;33m,\u001b[0m \u001b[0me\u001b[0m  \u001b[1;33m=\u001b[0m \u001b[1;34m'push'\u001b[0m\u001b[1;33m,\u001b[0m \u001b[1;36m67\u001b[0m \u001b[1;33m,\u001b[0m \u001b[1;32mTrue\u001b[0m                                          \u001b[1;31m# error, I have to assign value to all variables\u001b[0m\u001b[1;33m\u001b[0m\u001b[1;33m\u001b[0m\u001b[0m\n\u001b[0m",
      "\u001b[1;31mValueError\u001b[0m: not enough values to unpack (expected 5, got 3)"
     ]
    }
   ],
   "source": [
    "a, b, c , d, e  = 'push', 67 , True                                          # error, I have to assign value to all variables "
   ]
  },
  {
   "cell_type": "code",
   "execution_count": 38,
   "id": "1a58d1b4",
   "metadata": {},
   "outputs": [],
   "source": [
    "a, b, c , d, e  = 'push', 67 , True  , 78.9, 6+8j "
   ]
  },
  {
   "cell_type": "code",
   "execution_count": 39,
   "id": "10a7c569",
   "metadata": {},
   "outputs": [
    {
     "data": {
      "text/plain": [
       "True"
      ]
     },
     "execution_count": 39,
     "metadata": {},
     "output_type": "execute_result"
    }
   ],
   "source": [
    "c"
   ]
  },
  {
   "cell_type": "code",
   "execution_count": 40,
   "id": "a20a4da4",
   "metadata": {},
   "outputs": [
    {
     "data": {
      "text/plain": [
       "78.9"
      ]
     },
     "execution_count": 40,
     "metadata": {},
     "output_type": "execute_result"
    }
   ],
   "source": [
    "d"
   ]
  },
  {
   "cell_type": "code",
   "execution_count": 41,
   "id": "46499cad",
   "metadata": {},
   "outputs": [
    {
     "data": {
      "text/plain": [
       "(6+8j)"
      ]
     },
     "execution_count": 41,
     "metadata": {},
     "output_type": "execute_result"
    }
   ],
   "source": [
    "e"
   ]
  },
  {
   "cell_type": "code",
   "execution_count": 44,
   "id": "045af17a",
   "metadata": {},
   "outputs": [
    {
     "data": {
      "text/plain": [
       "complex"
      ]
     },
     "execution_count": 44,
     "metadata": {},
     "output_type": "execute_result"
    }
   ],
   "source": [
    "type(e)"
   ]
  },
  {
   "cell_type": "code",
   "execution_count": 45,
   "id": "4dbed425",
   "metadata": {},
   "outputs": [
    {
     "data": {
      "text/plain": [
       "8.0"
      ]
     },
     "execution_count": 45,
     "metadata": {},
     "output_type": "execute_result"
    }
   ],
   "source": [
    "e.imag"
   ]
  },
  {
   "cell_type": "code",
   "execution_count": 53,
   "id": "ae2b1b72",
   "metadata": {},
   "outputs": [
    {
     "data": {
      "text/plain": [
       "6.0"
      ]
     },
     "execution_count": 53,
     "metadata": {},
     "output_type": "execute_result"
    }
   ],
   "source": [
    "e.real"
   ]
  },
  {
   "cell_type": "code",
   "execution_count": 51,
   "id": "44a2835f",
   "metadata": {},
   "outputs": [
    {
     "data": {
      "text/plain": [
       "<function str.capitalize()>"
      ]
     },
     "execution_count": 51,
     "metadata": {},
     "output_type": "execute_result"
    }
   ],
   "source": [
    "a.                                                   #pressing tab after dot will provide the available functions of a"
   ]
  },
  {
   "cell_type": "code",
   "execution_count": 54,
   "id": "f0696885",
   "metadata": {},
   "outputs": [],
   "source": [
    "g = \"zayn\""
   ]
  },
  {
   "cell_type": "code",
   "execution_count": 61,
   "id": "49008b85",
   "metadata": {},
   "outputs": [
    {
     "ename": "TypeError",
     "evalue": "can only concatenate str (not \"int\") to str",
     "output_type": "error",
     "traceback": [
      "\u001b[1;31m---------------------------------------------------------------------------\u001b[0m",
      "\u001b[1;31mTypeError\u001b[0m                                 Traceback (most recent call last)",
      "\u001b[1;32mC:\\Users\\PD1D7~1.SUR\\AppData\\Local\\Temp/ipykernel_7428/3015945750.py\u001b[0m in \u001b[0;36m<module>\u001b[1;34m\u001b[0m\n\u001b[1;32m----> 1\u001b[1;33m \u001b[0mg\u001b[0m \u001b[1;33m+\u001b[0m \u001b[1;36m4\u001b[0m\u001b[1;33m\u001b[0m\u001b[1;33m\u001b[0m\u001b[0m\n\u001b[0m",
      "\u001b[1;31mTypeError\u001b[0m: can only concatenate str (not \"int\") to str"
     ]
    }
   ],
   "source": [
    "g + 4                                               #can only concatenate str (not \"int\") to str"
   ]
  },
  {
   "cell_type": "code",
   "execution_count": 62,
   "id": "72e48cdd",
   "metadata": {},
   "outputs": [
    {
     "data": {
      "text/plain": [
       "'zayn4'"
      ]
     },
     "execution_count": 62,
     "metadata": {},
     "output_type": "execute_result"
    }
   ],
   "source": [
    "g + '4'                                             # type casting - here we change the type of 4 to str "
   ]
  },
  {
   "cell_type": "code",
   "execution_count": 63,
   "id": "519f2c40",
   "metadata": {},
   "outputs": [
    {
     "data": {
      "text/plain": [
       "2"
      ]
     },
     "execution_count": 63,
     "metadata": {},
     "output_type": "execute_result"
    }
   ],
   "source": [
    "True + True                                         # by default internally true means 1 , false means 0 "
   ]
  },
  {
   "cell_type": "code",
   "execution_count": 64,
   "id": "01e5c168",
   "metadata": {},
   "outputs": [
    {
     "data": {
      "text/plain": [
       "1"
      ]
     },
     "execution_count": 64,
     "metadata": {},
     "output_type": "execute_result"
    }
   ],
   "source": [
    "True + False"
   ]
  },
  {
   "cell_type": "code",
   "execution_count": 66,
   "id": "e35db98f",
   "metadata": {},
   "outputs": [
    {
     "data": {
      "text/plain": [
       "0"
      ]
     },
     "execution_count": 66,
     "metadata": {},
     "output_type": "execute_result"
    }
   ],
   "source": [
    "False + False"
   ]
  },
  {
   "cell_type": "code",
   "execution_count": 67,
   "id": "02be8bc7",
   "metadata": {},
   "outputs": [
    {
     "data": {
      "text/plain": [
       "1"
      ]
     },
     "execution_count": 67,
     "metadata": {},
     "output_type": "execute_result"
    }
   ],
   "source": [
    "True - False"
   ]
  },
  {
   "cell_type": "code",
   "execution_count": 68,
   "id": "6d96b892",
   "metadata": {},
   "outputs": [
    {
     "data": {
      "text/plain": [
       "2"
      ]
     },
     "execution_count": 68,
     "metadata": {},
     "output_type": "execute_result"
    }
   ],
   "source": [
    "1 + True"
   ]
  },
  {
   "cell_type": "code",
   "execution_count": 69,
   "id": "f3294cf5",
   "metadata": {},
   "outputs": [
    {
     "data": {
      "text/plain": [
       "9"
      ]
     },
     "execution_count": 69,
     "metadata": {},
     "output_type": "execute_result"
    }
   ],
   "source": [
    "True * 9 "
   ]
  },
  {
   "cell_type": "code",
   "execution_count": 70,
   "id": "ffa88faa",
   "metadata": {},
   "outputs": [
    {
     "name": "stdout",
     "output_type": "stream",
     "text": [
      "122gh\n"
     ]
    },
    {
     "data": {
      "text/plain": [
       "'122gh'"
      ]
     },
     "execution_count": 70,
     "metadata": {},
     "output_type": "execute_result"
    }
   ],
   "source": [
    "input()"
   ]
  },
  {
   "cell_type": "code",
   "execution_count": 71,
   "id": "d41098d4",
   "metadata": {},
   "outputs": [
    {
     "name": "stdout",
     "output_type": "stream",
     "text": [
      "25\n"
     ]
    }
   ],
   "source": [
    "a = input()                                      # by default whatever I give as an imput value, it will convert it into string "
   ]
  },
  {
   "cell_type": "code",
   "execution_count": 72,
   "id": "32ffde01",
   "metadata": {},
   "outputs": [
    {
     "data": {
      "text/plain": [
       "'25'"
      ]
     },
     "execution_count": 72,
     "metadata": {},
     "output_type": "execute_result"
    }
   ],
   "source": [
    "a"
   ]
  },
  {
   "cell_type": "code",
   "execution_count": 73,
   "id": "64985393",
   "metadata": {},
   "outputs": [
    {
     "data": {
      "text/plain": [
       "str"
      ]
     },
     "execution_count": 73,
     "metadata": {},
     "output_type": "execute_result"
    }
   ],
   "source": [
    "type(a)"
   ]
  },
  {
   "cell_type": "code",
   "execution_count": 74,
   "id": "fb1c5fa2",
   "metadata": {},
   "outputs": [],
   "source": [
    "b = 56"
   ]
  },
  {
   "cell_type": "code",
   "execution_count": 75,
   "id": "7c3837a3",
   "metadata": {},
   "outputs": [
    {
     "ename": "TypeError",
     "evalue": "can only concatenate str (not \"int\") to str",
     "output_type": "error",
     "traceback": [
      "\u001b[1;31m---------------------------------------------------------------------------\u001b[0m",
      "\u001b[1;31mTypeError\u001b[0m                                 Traceback (most recent call last)",
      "\u001b[1;32mC:\\Users\\PD1D7~1.SUR\\AppData\\Local\\Temp/ipykernel_7428/3553919051.py\u001b[0m in \u001b[0;36m<module>\u001b[1;34m\u001b[0m\n\u001b[1;32m----> 1\u001b[1;33m \u001b[0ma\u001b[0m\u001b[1;33m+\u001b[0m\u001b[0mb\u001b[0m\u001b[1;33m\u001b[0m\u001b[1;33m\u001b[0m\u001b[0m\n\u001b[0m",
      "\u001b[1;31mTypeError\u001b[0m: can only concatenate str (not \"int\") to str"
     ]
    }
   ],
   "source": [
    "a+b"
   ]
  },
  {
   "cell_type": "code",
   "execution_count": 77,
   "id": "aa474130",
   "metadata": {},
   "outputs": [
    {
     "data": {
      "text/plain": [
       "81"
      ]
     },
     "execution_count": 77,
     "metadata": {},
     "output_type": "execute_result"
    }
   ],
   "source": [
    "int(a)+b                                                # typecast str into int, this will be only possible if its in the format of int "
   ]
  },
  {
   "cell_type": "markdown",
   "id": "e51fb64e",
   "metadata": {},
   "source": [
    "# String"
   ]
  },
  {
   "cell_type": "code",
   "execution_count": 78,
   "id": "9716182f",
   "metadata": {},
   "outputs": [],
   "source": [
    "z = \"zayn\""
   ]
  },
  {
   "cell_type": "code",
   "execution_count": 79,
   "id": "d153689b",
   "metadata": {},
   "outputs": [
    {
     "data": {
      "text/plain": [
       "'zayn'"
      ]
     },
     "execution_count": 79,
     "metadata": {},
     "output_type": "execute_result"
    }
   ],
   "source": [
    "z"
   ]
  },
  {
   "cell_type": "code",
   "execution_count": 80,
   "id": "10d334f4",
   "metadata": {},
   "outputs": [
    {
     "data": {
      "text/plain": [
       "str"
      ]
     },
     "execution_count": 80,
     "metadata": {},
     "output_type": "execute_result"
    }
   ],
   "source": [
    "type(z)"
   ]
  },
  {
   "cell_type": "code",
   "execution_count": 81,
   "id": "2eaa748b",
   "metadata": {},
   "outputs": [
    {
     "data": {
      "text/plain": [
       "'z'"
      ]
     },
     "execution_count": 81,
     "metadata": {},
     "output_type": "execute_result"
    }
   ],
   "source": [
    "z[0]"
   ]
  },
  {
   "cell_type": "code",
   "execution_count": 91,
   "id": "6f299f19",
   "metadata": {},
   "outputs": [
    {
     "data": {
      "text/plain": [
       "'n'"
      ]
     },
     "execution_count": 91,
     "metadata": {},
     "output_type": "execute_result"
    }
   ],
   "source": [
    "z[-1]"
   ]
  },
  {
   "cell_type": "code",
   "execution_count": 94,
   "id": "cb9d2a68",
   "metadata": {},
   "outputs": [
    {
     "data": {
      "text/plain": [
       "'y'"
      ]
     },
     "execution_count": 94,
     "metadata": {},
     "output_type": "execute_result"
    }
   ],
   "source": [
    "z[-2]"
   ]
  },
  {
   "cell_type": "code",
   "execution_count": 120,
   "id": "dd4eb021",
   "metadata": {},
   "outputs": [],
   "source": [
    "a = \"this is a string\""
   ]
  },
  {
   "cell_type": "code",
   "execution_count": 121,
   "id": "0dbb7dd6",
   "metadata": {},
   "outputs": [
    {
     "data": {
      "text/plain": [
       "'i'"
      ]
     },
     "execution_count": 121,
     "metadata": {},
     "output_type": "execute_result"
    }
   ],
   "source": [
    "a[5]                                                   # counts spaces"
   ]
  },
  {
   "cell_type": "code",
   "execution_count": 122,
   "id": "cde2ae07",
   "metadata": {},
   "outputs": [
    {
     "data": {
      "text/plain": [
       "'this is a string'"
      ]
     },
     "execution_count": 122,
     "metadata": {},
     "output_type": "execute_result"
    }
   ],
   "source": [
    "a[0:20]"
   ]
  },
  {
   "cell_type": "code",
   "execution_count": 123,
   "id": "4c31ee34",
   "metadata": {},
   "outputs": [
    {
     "data": {
      "text/plain": [
       "'this is a '"
      ]
     },
     "execution_count": 123,
     "metadata": {},
     "output_type": "execute_result"
    }
   ],
   "source": [
    "a[0:10]                                                # including 0 excluding 10"
   ]
  },
  {
   "cell_type": "code",
   "execution_count": 102,
   "id": "4b614598",
   "metadata": {},
   "outputs": [
    {
     "ename": "IndexError",
     "evalue": "string index out of range",
     "output_type": "error",
     "traceback": [
      "\u001b[1;31m---------------------------------------------------------------------------\u001b[0m",
      "\u001b[1;31mIndexError\u001b[0m                                Traceback (most recent call last)",
      "\u001b[1;32mC:\\Users\\PD1D7~1.SUR\\AppData\\Local\\Temp/ipykernel_7428/3535264328.py\u001b[0m in \u001b[0;36m<module>\u001b[1;34m\u001b[0m\n\u001b[1;32m----> 1\u001b[1;33m \u001b[0ma\u001b[0m\u001b[1;33m[\u001b[0m\u001b[1;36m50\u001b[0m\u001b[1;33m]\u001b[0m                            \u001b[1;31m# if i try to access individual indexes it throws error,but for range it gives till last index\u001b[0m\u001b[1;33m\u001b[0m\u001b[1;33m\u001b[0m\u001b[0m\n\u001b[0m",
      "\u001b[1;31mIndexError\u001b[0m: string index out of range"
     ]
    }
   ],
   "source": [
    "a[50]                            # if i try to access individual indexes it throws error,but for range it gives till last index "
   ]
  },
  {
   "cell_type": "code",
   "execution_count": 124,
   "id": "3c668eed",
   "metadata": {},
   "outputs": [
    {
     "data": {
      "text/plain": [
       "'n'"
      ]
     },
     "execution_count": 124,
     "metadata": {},
     "output_type": "execute_result"
    }
   ],
   "source": [
    "a[-2]"
   ]
  },
  {
   "cell_type": "code",
   "execution_count": 125,
   "id": "5e19e439",
   "metadata": {},
   "outputs": [
    {
     "data": {
      "text/plain": [
       "''"
      ]
     },
     "execution_count": 125,
     "metadata": {},
     "output_type": "execute_result"
    }
   ],
   "source": [
    "a[-1:-4]                                  # only positive jump is possible"
   ]
  },
  {
   "cell_type": "code",
   "execution_count": 126,
   "id": "8a46a3e1",
   "metadata": {},
   "outputs": [
    {
     "data": {
      "text/plain": [
       "'ti sasrn'"
      ]
     },
     "execution_count": 126,
     "metadata": {},
     "output_type": "execute_result"
    }
   ],
   "source": [
    "a[0:20:2]                                 # 0th to 20th excluding 20th with step size 2"
   ]
  },
  {
   "cell_type": "code",
   "execution_count": 127,
   "id": "e3fa4991",
   "metadata": {},
   "outputs": [
    {
     "data": {
      "text/plain": [
       "''"
      ]
     },
     "execution_count": 127,
     "metadata": {},
     "output_type": "execute_result"
    }
   ],
   "source": [
    "a[0:20:-1]                                # negative step size for positive traverse"
   ]
  },
  {
   "cell_type": "code",
   "execution_count": 128,
   "id": "f59e9625",
   "metadata": {},
   "outputs": [
    {
     "data": {
      "text/plain": [
       "''"
      ]
     },
     "execution_count": 128,
     "metadata": {},
     "output_type": "execute_result"
    }
   ],
   "source": [
    "a[-1:-10]                                 # wont work bcos eve if i dont mention step size, its positive 1 "
   ]
  },
  {
   "cell_type": "code",
   "execution_count": 129,
   "id": "a6e5ecc3",
   "metadata": {},
   "outputs": [
    {
     "data": {
      "text/plain": [
       "'gnirts a si siht'"
      ]
     },
     "execution_count": 129,
     "metadata": {},
     "output_type": "execute_result"
    }
   ],
   "source": [
    "a[-1:-100:-1]"
   ]
  },
  {
   "cell_type": "code",
   "execution_count": 130,
   "id": "f9eea7a2",
   "metadata": {},
   "outputs": [
    {
     "data": {
      "text/plain": [
       "''"
      ]
     },
     "execution_count": 130,
     "metadata": {},
     "output_type": "execute_result"
    }
   ],
   "source": [
    "a[0:-10:-1]"
   ]
  },
  {
   "cell_type": "code",
   "execution_count": 131,
   "id": "06692e9e",
   "metadata": {},
   "outputs": [
    {
     "data": {
      "text/plain": [
       "'this is a string'"
      ]
     },
     "execution_count": 131,
     "metadata": {},
     "output_type": "execute_result"
    }
   ],
   "source": [
    "a[::]"
   ]
  },
  {
   "cell_type": "code",
   "execution_count": 132,
   "id": "35278024",
   "metadata": {},
   "outputs": [
    {
     "data": {
      "text/plain": [
       "'this is a '"
      ]
     },
     "execution_count": 132,
     "metadata": {},
     "output_type": "execute_result"
    }
   ],
   "source": [
    "a[:10]"
   ]
  },
  {
   "cell_type": "code",
   "execution_count": 133,
   "id": "287f78b3",
   "metadata": {},
   "outputs": [
    {
     "data": {
      "text/plain": [
       "'ng'"
      ]
     },
     "execution_count": 133,
     "metadata": {},
     "output_type": "execute_result"
    }
   ],
   "source": [
    "a[-2:]"
   ]
  },
  {
   "cell_type": "code",
   "execution_count": 134,
   "id": "f30096ec",
   "metadata": {},
   "outputs": [
    {
     "data": {
      "text/plain": [
       "'n'"
      ]
     },
     "execution_count": 134,
     "metadata": {},
     "output_type": "execute_result"
    }
   ],
   "source": [
    "a[-2:-1]                                       # moving in positive direction as default step is 1. Use scale method when confused"
   ]
  },
  {
   "cell_type": "code",
   "execution_count": 135,
   "id": "05a6698a",
   "metadata": {},
   "outputs": [
    {
     "data": {
      "text/plain": [
       "'gnirts a si siht'"
      ]
     },
     "execution_count": 135,
     "metadata": {},
     "output_type": "execute_result"
    }
   ],
   "source": [
    "a[::-1]"
   ]
  },
  {
   "cell_type": "code",
   "execution_count": 136,
   "id": "81b8b2ab",
   "metadata": {},
   "outputs": [
    {
     "data": {
      "text/plain": [
       "'git  ish'"
      ]
     },
     "execution_count": 136,
     "metadata": {},
     "output_type": "execute_result"
    }
   ],
   "source": [
    "a[::-2]"
   ]
  },
  {
   "cell_type": "code",
   "execution_count": 137,
   "id": "f03d0f10",
   "metadata": {},
   "outputs": [
    {
     "data": {
      "text/plain": [
       "'gnirts a si siht'"
      ]
     },
     "execution_count": 137,
     "metadata": {},
     "output_type": "execute_result"
    }
   ],
   "source": [
    "a[-1::-1]"
   ]
  },
  {
   "cell_type": "code",
   "execution_count": 138,
   "id": "175737a1",
   "metadata": {},
   "outputs": [
    {
     "data": {
      "text/plain": [
       "'ts a s'"
      ]
     },
     "execution_count": 138,
     "metadata": {},
     "output_type": "execute_result"
    }
   ],
   "source": [
    "a[-5:5:-1]"
   ]
  },
  {
   "cell_type": "code",
   "execution_count": 139,
   "id": "b5858ec0",
   "metadata": {},
   "outputs": [
    {
     "data": {
      "text/plain": [
       "''"
      ]
     },
     "execution_count": 139,
     "metadata": {},
     "output_type": "execute_result"
    }
   ],
   "source": [
    "a[5:-5:-1]"
   ]
  },
  {
   "cell_type": "code",
   "execution_count": 140,
   "id": "22f25d7c",
   "metadata": {},
   "outputs": [],
   "source": [
    "c = \"MBOSCODICTIOUSAUR\""
   ]
  },
  {
   "cell_type": "code",
   "execution_count": 141,
   "id": "cf1581ff",
   "metadata": {},
   "outputs": [
    {
     "data": {
      "text/plain": [
       "'UOITCID'"
      ]
     },
     "execution_count": 141,
     "metadata": {},
     "output_type": "execute_result"
    }
   ],
   "source": [
    "c[-5:5:-1]"
   ]
  },
  {
   "cell_type": "code",
   "execution_count": 142,
   "id": "c0cdeb7a",
   "metadata": {},
   "outputs": [
    {
     "data": {
      "text/plain": [
       "''"
      ]
     },
     "execution_count": 142,
     "metadata": {},
     "output_type": "execute_result"
    }
   ],
   "source": [
    "c[-5:5]                                     #direction is always positive"
   ]
  },
  {
   "cell_type": "code",
   "execution_count": 143,
   "id": "f284f8b2",
   "metadata": {},
   "outputs": [
    {
     "data": {
      "text/plain": [
       "'zaynzaynzayn'"
      ]
     },
     "execution_count": 143,
     "metadata": {},
     "output_type": "execute_result"
    }
   ],
   "source": [
    "\"zayn\" * 3"
   ]
  },
  {
   "cell_type": "code",
   "execution_count": 144,
   "id": "fc8b54dc",
   "metadata": {},
   "outputs": [
    {
     "data": {
      "text/plain": [
       "'zaynMalik'"
      ]
     },
     "execution_count": 144,
     "metadata": {},
     "output_type": "execute_result"
    }
   ],
   "source": [
    "\"zayn\" + \"Malik\""
   ]
  },
  {
   "cell_type": "code",
   "execution_count": 145,
   "id": "8e3a678b",
   "metadata": {},
   "outputs": [
    {
     "data": {
      "text/plain": [
       "'MBOSCODICTIOUSAUR'"
      ]
     },
     "execution_count": 145,
     "metadata": {},
     "output_type": "execute_result"
    }
   ],
   "source": [
    "c"
   ]
  },
  {
   "cell_type": "code",
   "execution_count": 146,
   "id": "8f210b0a",
   "metadata": {},
   "outputs": [
    {
     "data": {
      "text/plain": [
       "17"
      ]
     },
     "execution_count": 146,
     "metadata": {},
     "output_type": "execute_result"
    }
   ],
   "source": [
    "len(c)"
   ]
  },
  {
   "cell_type": "code",
   "execution_count": 147,
   "id": "220c21d4",
   "metadata": {},
   "outputs": [
    {
     "data": {
      "text/plain": [
       "16"
      ]
     },
     "execution_count": 147,
     "metadata": {},
     "output_type": "execute_result"
    }
   ],
   "source": [
    "len(a)"
   ]
  },
  {
   "cell_type": "code",
   "execution_count": 149,
   "id": "ed43a7aa",
   "metadata": {},
   "outputs": [
    {
     "data": {
      "text/plain": [
       "'this is a string'"
      ]
     },
     "execution_count": 149,
     "metadata": {},
     "output_type": "execute_result"
    }
   ],
   "source": [
    "a"
   ]
  },
  {
   "cell_type": "code",
   "execution_count": 152,
   "id": "a9ea01cf",
   "metadata": {},
   "outputs": [
    {
     "data": {
      "text/plain": [
       "8"
      ]
     },
     "execution_count": 152,
     "metadata": {},
     "output_type": "execute_result"
    }
   ],
   "source": [
    "a.rindex('a')"
   ]
  },
  {
   "cell_type": "code",
   "execution_count": 154,
   "id": "024b0aeb",
   "metadata": {},
   "outputs": [
    {
     "data": {
      "text/plain": [
       "8"
      ]
     },
     "execution_count": 154,
     "metadata": {},
     "output_type": "execute_result"
    }
   ],
   "source": [
    "a.find('a')"
   ]
  },
  {
   "cell_type": "code",
   "execution_count": 155,
   "id": "b048abf4",
   "metadata": {},
   "outputs": [
    {
     "data": {
      "text/plain": [
       "2"
      ]
     },
     "execution_count": 155,
     "metadata": {},
     "output_type": "execute_result"
    }
   ],
   "source": [
    "a.find('i')                                              #only first index is given "
   ]
  },
  {
   "cell_type": "code",
   "execution_count": 156,
   "id": "ed526777",
   "metadata": {},
   "outputs": [
    {
     "data": {
      "text/plain": [
       "13"
      ]
     },
     "execution_count": 156,
     "metadata": {},
     "output_type": "execute_result"
    }
   ],
   "source": [
    "a.find('in')                                             #combination index it will return "
   ]
  },
  {
   "cell_type": "code",
   "execution_count": 157,
   "id": "7613684d",
   "metadata": {},
   "outputs": [
    {
     "data": {
      "text/plain": [
       "-1"
      ]
     },
     "execution_count": 157,
     "metadata": {},
     "output_type": "execute_result"
    }
   ],
   "source": [
    "a.find('sr')                                             # it will return -1 bcos it cannot read two charactes here which are not combination "
   ]
  },
  {
   "cell_type": "code",
   "execution_count": 159,
   "id": "9de89ea4",
   "metadata": {},
   "outputs": [
    {
     "data": {
      "text/plain": [
       "3"
      ]
     },
     "execution_count": 159,
     "metadata": {},
     "output_type": "execute_result"
    }
   ],
   "source": [
    "a.count('s')"
   ]
  },
  {
   "cell_type": "code",
   "execution_count": 160,
   "id": "c0c9f67f",
   "metadata": {},
   "outputs": [
    {
     "data": {
      "text/plain": [
       "0"
      ]
     },
     "execution_count": 160,
     "metadata": {},
     "output_type": "execute_result"
    }
   ],
   "source": [
    "a.count('x')"
   ]
  },
  {
   "cell_type": "code",
   "execution_count": 161,
   "id": "12c65a1f",
   "metadata": {},
   "outputs": [
    {
     "data": {
      "text/plain": [
       "['th', 's ', 's a str', 'ng']"
      ]
     },
     "execution_count": 161,
     "metadata": {},
     "output_type": "execute_result"
    }
   ],
   "source": [
    "a.split('i')"
   ]
  },
  {
   "cell_type": "code",
   "execution_count": 168,
   "id": "ca47e710",
   "metadata": {},
   "outputs": [],
   "source": [
    "l= a.split()                                           # here it is splitting with seperator as space since it is not defined "
   ]
  },
  {
   "cell_type": "code",
   "execution_count": 165,
   "id": "e6219d2c",
   "metadata": {},
   "outputs": [
    {
     "data": {
      "text/plain": [
       "list"
      ]
     },
     "execution_count": 165,
     "metadata": {},
     "output_type": "execute_result"
    }
   ],
   "source": [
    "type(a.split())"
   ]
  },
  {
   "cell_type": "code",
   "execution_count": 169,
   "id": "5df89db7",
   "metadata": {},
   "outputs": [
    {
     "data": {
      "text/plain": [
       "['this', 'is', 'a', 'string']"
      ]
     },
     "execution_count": 169,
     "metadata": {},
     "output_type": "execute_result"
    }
   ],
   "source": [
    "l"
   ]
  },
  {
   "cell_type": "code",
   "execution_count": 170,
   "id": "5b6c0e5f",
   "metadata": {},
   "outputs": [
    {
     "data": {
      "text/plain": [
       "'this'"
      ]
     },
     "execution_count": 170,
     "metadata": {},
     "output_type": "execute_result"
    }
   ],
   "source": [
    "l[0]"
   ]
  },
  {
   "cell_type": "code",
   "execution_count": 171,
   "id": "1cc2185e",
   "metadata": {},
   "outputs": [
    {
     "data": {
      "text/plain": [
       "'a'"
      ]
     },
     "execution_count": 171,
     "metadata": {},
     "output_type": "execute_result"
    }
   ],
   "source": [
    "l[2]"
   ]
  },
  {
   "cell_type": "code",
   "execution_count": 172,
   "id": "b5b24728",
   "metadata": {},
   "outputs": [
    {
     "data": {
      "text/plain": [
       "['this', 'is', 'a']"
      ]
     },
     "execution_count": 172,
     "metadata": {},
     "output_type": "execute_result"
    }
   ],
   "source": [
    "l[0:3]"
   ]
  },
  {
   "cell_type": "code",
   "execution_count": 173,
   "id": "ba9ed0ad",
   "metadata": {},
   "outputs": [
    {
     "data": {
      "text/plain": [
       "'THIS IS A STRING'"
      ]
     },
     "execution_count": 173,
     "metadata": {},
     "output_type": "execute_result"
    }
   ],
   "source": [
    "a.upper()"
   ]
  },
  {
   "cell_type": "code",
   "execution_count": 178,
   "id": "7c0337be",
   "metadata": {},
   "outputs": [],
   "source": [
    "p = \"pUsh\""
   ]
  },
  {
   "cell_type": "code",
   "execution_count": 179,
   "id": "3d0d07bd",
   "metadata": {},
   "outputs": [
    {
     "data": {
      "text/plain": [
       "'PuSH'"
      ]
     },
     "execution_count": 179,
     "metadata": {},
     "output_type": "execute_result"
    }
   ],
   "source": [
    "p.swapcase()"
   ]
  },
  {
   "cell_type": "code",
   "execution_count": 180,
   "id": "66920d53",
   "metadata": {},
   "outputs": [
    {
     "data": {
      "text/plain": [
       "'Push'"
      ]
     },
     "execution_count": 180,
     "metadata": {},
     "output_type": "execute_result"
    }
   ],
   "source": [
    "p.title()"
   ]
  },
  {
   "cell_type": "code",
   "execution_count": 181,
   "id": "ba10fa67",
   "metadata": {},
   "outputs": [
    {
     "data": {
      "text/plain": [
       "'Push'"
      ]
     },
     "execution_count": 181,
     "metadata": {},
     "output_type": "execute_result"
    }
   ],
   "source": [
    "p.capitalize()"
   ]
  },
  {
   "cell_type": "code",
   "execution_count": 182,
   "id": "c5788cb6",
   "metadata": {},
   "outputs": [],
   "source": [
    "b= \"python\"\n",
    "c=\"basics\""
   ]
  },
  {
   "cell_type": "code",
   "execution_count": 183,
   "id": "18511918",
   "metadata": {},
   "outputs": [
    {
     "data": {
      "text/plain": [
       "'bpythonapythonspythonipythoncpythons'"
      ]
     },
     "execution_count": 183,
     "metadata": {},
     "output_type": "execute_result"
    }
   ],
   "source": [
    "b.join(c)"
   ]
  },
  {
   "cell_type": "code",
   "execution_count": 185,
   "id": "7140ff68",
   "metadata": {},
   "outputs": [
    {
     "data": {
      "text/plain": [
       "'s u d h'"
      ]
     },
     "execution_count": 185,
     "metadata": {},
     "output_type": "execute_result"
    }
   ],
   "source": [
    "\" \".join(\"sudh\")                                            #after every character it is trying to join a space"
   ]
  },
  {
   "cell_type": "code",
   "execution_count": 186,
   "id": "8befb92e",
   "metadata": {},
   "outputs": [
    {
     "data": {
      "text/plain": [
       "<reversed at 0x1c0f0bfd160>"
      ]
     },
     "execution_count": 186,
     "metadata": {},
     "output_type": "execute_result"
    }
   ],
   "source": [
    "reversed(\"sudh\")"
   ]
  },
  {
   "cell_type": "code",
   "execution_count": 188,
   "id": "1ca5aea8",
   "metadata": {},
   "outputs": [],
   "source": [
    "s = \" shamanth \""
   ]
  },
  {
   "cell_type": "code",
   "execution_count": 189,
   "id": "dbd94c6e",
   "metadata": {},
   "outputs": [
    {
     "data": {
      "text/plain": [
       "' shamanth'"
      ]
     },
     "execution_count": 189,
     "metadata": {},
     "output_type": "execute_result"
    }
   ],
   "source": [
    "s.rstrip()"
   ]
  },
  {
   "cell_type": "code",
   "execution_count": 190,
   "id": "5d0f35ea",
   "metadata": {},
   "outputs": [
    {
     "data": {
      "text/plain": [
       "'shamanth '"
      ]
     },
     "execution_count": 190,
     "metadata": {},
     "output_type": "execute_result"
    }
   ],
   "source": [
    "s.lstrip()"
   ]
  },
  {
   "cell_type": "code",
   "execution_count": 192,
   "id": "818cb0af",
   "metadata": {},
   "outputs": [
    {
     "data": {
      "text/plain": [
       "'shamanth'"
      ]
     },
     "execution_count": 192,
     "metadata": {},
     "output_type": "execute_result"
    }
   ],
   "source": [
    "s.strip()"
   ]
  },
  {
   "cell_type": "code",
   "execution_count": 193,
   "id": "1ce78156",
   "metadata": {},
   "outputs": [
    {
     "data": {
      "text/plain": [
       "' saamanta '"
      ]
     },
     "execution_count": 193,
     "metadata": {},
     "output_type": "execute_result"
    }
   ],
   "source": [
    "s.replace(\"h\",\"a\")"
   ]
  },
  {
   "cell_type": "code",
   "execution_count": 194,
   "id": "208d4357",
   "metadata": {},
   "outputs": [
    {
     "data": {
      "text/plain": [
       "' shamanth '"
      ]
     },
     "execution_count": 194,
     "metadata": {},
     "output_type": "execute_result"
    }
   ],
   "source": [
    "s"
   ]
  },
  {
   "cell_type": "code",
   "execution_count": 195,
   "id": "a0705623",
   "metadata": {},
   "outputs": [
    {
     "data": {
      "text/plain": [
       "' shamanth '"
      ]
     },
     "execution_count": 195,
     "metadata": {},
     "output_type": "execute_result"
    }
   ],
   "source": [
    "s.replace(\"u\",\"xyz\")                                              #u is not present"
   ]
  },
  {
   "cell_type": "code",
   "execution_count": 196,
   "id": "8ecb3042",
   "metadata": {},
   "outputs": [
    {
     "data": {
      "text/plain": [
       "'shamanth        gowda'"
      ]
     },
     "execution_count": 196,
     "metadata": {},
     "output_type": "execute_result"
    }
   ],
   "source": [
    "\"shamanth\\tgowda\".expandtabs()"
   ]
  },
  {
   "cell_type": "code",
   "execution_count": 198,
   "id": "698ee987",
   "metadata": {},
   "outputs": [
    {
     "data": {
      "text/plain": [
       "'##### shamanth #####'"
      ]
     },
     "execution_count": 198,
     "metadata": {},
     "output_type": "execute_result"
    }
   ],
   "source": [
    "s.center(20,'#')"
   ]
  },
  {
   "cell_type": "code",
   "execution_count": 200,
   "id": "3f398c5d",
   "metadata": {},
   "outputs": [
    {
     "ename": "TypeError",
     "evalue": "The fill character must be exactly one character long",
     "output_type": "error",
     "traceback": [
      "\u001b[1;31m---------------------------------------------------------------------------\u001b[0m",
      "\u001b[1;31mTypeError\u001b[0m                                 Traceback (most recent call last)",
      "\u001b[1;32mC:\\Users\\PD1D7~1.SUR\\AppData\\Local\\Temp/ipykernel_7428/1933725065.py\u001b[0m in \u001b[0;36m<module>\u001b[1;34m\u001b[0m\n\u001b[1;32m----> 1\u001b[1;33m \u001b[0ms\u001b[0m\u001b[1;33m.\u001b[0m\u001b[0mcenter\u001b[0m\u001b[1;33m(\u001b[0m\u001b[1;36m20\u001b[0m\u001b[1;33m,\u001b[0m\u001b[1;34m'tu'\u001b[0m\u001b[1;33m)\u001b[0m                                                \u001b[1;31m# should be only one character\u001b[0m\u001b[1;33m\u001b[0m\u001b[1;33m\u001b[0m\u001b[0m\n\u001b[0m",
      "\u001b[1;31mTypeError\u001b[0m: The fill character must be exactly one character long"
     ]
    }
   ],
   "source": [
    "s.center(20,'tu')                                                # should be only one character "
   ]
  },
  {
   "cell_type": "code",
   "execution_count": 201,
   "id": "312bef8f",
   "metadata": {},
   "outputs": [
    {
     "data": {
      "text/plain": [
       "' shamanth '"
      ]
     },
     "execution_count": 201,
     "metadata": {},
     "output_type": "execute_result"
    }
   ],
   "source": [
    "s"
   ]
  },
  {
   "cell_type": "code",
   "execution_count": 202,
   "id": "1f67cc65",
   "metadata": {},
   "outputs": [
    {
     "data": {
      "text/plain": [
       "False"
      ]
     },
     "execution_count": 202,
     "metadata": {},
     "output_type": "execute_result"
    }
   ],
   "source": [
    "s.isupper()                                # whatever function is going to start with is is always going to return true or false"
   ]
  },
  {
   "cell_type": "code",
   "execution_count": 203,
   "id": "5881f052",
   "metadata": {},
   "outputs": [
    {
     "data": {
      "text/plain": [
       "False"
      ]
     },
     "execution_count": 203,
     "metadata": {},
     "output_type": "execute_result"
    }
   ],
   "source": [
    "s.isspace()"
   ]
  },
  {
   "cell_type": "code",
   "execution_count": 204,
   "id": "9ad4e4c6",
   "metadata": {},
   "outputs": [],
   "source": [
    "d= \" \""
   ]
  },
  {
   "cell_type": "code",
   "execution_count": 205,
   "id": "f54f494d",
   "metadata": {},
   "outputs": [
    {
     "data": {
      "text/plain": [
       "True"
      ]
     },
     "execution_count": 205,
     "metadata": {},
     "output_type": "execute_result"
    }
   ],
   "source": [
    "d.isspace()"
   ]
  },
  {
   "cell_type": "code",
   "execution_count": 209,
   "id": "29a7defe",
   "metadata": {},
   "outputs": [],
   "source": [
    "t = \"12345\""
   ]
  },
  {
   "cell_type": "code",
   "execution_count": 210,
   "id": "5261e0a2",
   "metadata": {},
   "outputs": [
    {
     "data": {
      "text/plain": [
       "True"
      ]
     },
     "execution_count": 210,
     "metadata": {},
     "output_type": "execute_result"
    }
   ],
   "source": [
    "t.isdigit()"
   ]
  },
  {
   "cell_type": "code",
   "execution_count": 211,
   "id": "57a05b0d",
   "metadata": {},
   "outputs": [
    {
     "data": {
      "text/plain": [
       "' shamanth '"
      ]
     },
     "execution_count": 211,
     "metadata": {},
     "output_type": "execute_result"
    }
   ],
   "source": [
    "s"
   ]
  },
  {
   "cell_type": "code",
   "execution_count": 215,
   "id": "3d9bd47f",
   "metadata": {},
   "outputs": [
    {
     "data": {
      "text/plain": [
       "False"
      ]
     },
     "execution_count": 215,
     "metadata": {},
     "output_type": "execute_result"
    }
   ],
   "source": [
    "s.endswith('h')                                         # because there is a space at the end"
   ]
  },
  {
   "cell_type": "code",
   "execution_count": 216,
   "id": "cb3773bc",
   "metadata": {},
   "outputs": [],
   "source": [
    "s = \"shamanath\""
   ]
  },
  {
   "cell_type": "code",
   "execution_count": 217,
   "id": "9fd5caee",
   "metadata": {},
   "outputs": [
    {
     "data": {
      "text/plain": [
       "True"
      ]
     },
     "execution_count": 217,
     "metadata": {},
     "output_type": "execute_result"
    }
   ],
   "source": [
    "s.startswith(\"s\")"
   ]
  },
  {
   "cell_type": "code",
   "execution_count": 218,
   "id": "d57ea4f4",
   "metadata": {},
   "outputs": [
    {
     "data": {
      "text/plain": [
       "True"
      ]
     },
     "execution_count": 218,
     "metadata": {},
     "output_type": "execute_result"
    }
   ],
   "source": [
    "s.endswith('h')"
   ]
  },
  {
   "cell_type": "code",
   "execution_count": 219,
   "id": "11eb77da",
   "metadata": {},
   "outputs": [
    {
     "data": {
      "text/plain": [
       "False"
      ]
     },
     "execution_count": 219,
     "metadata": {},
     "output_type": "execute_result"
    }
   ],
   "source": [
    "s.istitle()"
   ]
  },
  {
   "cell_type": "code",
   "execution_count": 220,
   "id": "8e55ba5c",
   "metadata": {},
   "outputs": [],
   "source": [
    "t = \"The\""
   ]
  },
  {
   "cell_type": "code",
   "execution_count": 221,
   "id": "f495471f",
   "metadata": {},
   "outputs": [
    {
     "data": {
      "text/plain": [
       "True"
      ]
     },
     "execution_count": 221,
     "metadata": {},
     "output_type": "execute_result"
    }
   ],
   "source": [
    "t.istitle()"
   ]
  },
  {
   "cell_type": "code",
   "execution_count": 222,
   "id": "f03626a3",
   "metadata": {},
   "outputs": [
    {
     "data": {
      "text/plain": [
       "b'shamanath'"
      ]
     },
     "execution_count": 222,
     "metadata": {},
     "output_type": "execute_result"
    }
   ],
   "source": [
    "s.encode()"
   ]
  },
  {
   "cell_type": "markdown",
   "id": "2752ec46",
   "metadata": {},
   "source": [
    "# List"
   ]
  },
  {
   "cell_type": "code",
   "execution_count": 225,
   "id": "6333a192",
   "metadata": {},
   "outputs": [],
   "source": [
    "l = [\"shamanth\",\"g\", 30, 28.4, 6+4j]"
   ]
  },
  {
   "cell_type": "code",
   "execution_count": 226,
   "id": "a1053488",
   "metadata": {},
   "outputs": [
    {
     "data": {
      "text/plain": [
       "list"
      ]
     },
     "execution_count": 226,
     "metadata": {},
     "output_type": "execute_result"
    }
   ],
   "source": [
    "type(l)"
   ]
  },
  {
   "cell_type": "code",
   "execution_count": 227,
   "id": "c25ad99a",
   "metadata": {},
   "outputs": [
    {
     "data": {
      "text/plain": [
       "'shamanth'"
      ]
     },
     "execution_count": 227,
     "metadata": {},
     "output_type": "execute_result"
    }
   ],
   "source": [
    "l[0]"
   ]
  },
  {
   "cell_type": "code",
   "execution_count": 228,
   "id": "30895def",
   "metadata": {},
   "outputs": [
    {
     "data": {
      "text/plain": [
       "(6+4j)"
      ]
     },
     "execution_count": 228,
     "metadata": {},
     "output_type": "execute_result"
    }
   ],
   "source": [
    "l[-1]"
   ]
  },
  {
   "cell_type": "code",
   "execution_count": 230,
   "id": "ef0ce3f6",
   "metadata": {},
   "outputs": [
    {
     "data": {
      "text/plain": [
       "'shamanth'"
      ]
     },
     "execution_count": 230,
     "metadata": {},
     "output_type": "execute_result"
    }
   ],
   "source": [
    "l[-5]"
   ]
  },
  {
   "cell_type": "code",
   "execution_count": 231,
   "id": "7b4a1aa6",
   "metadata": {},
   "outputs": [
    {
     "data": {
      "text/plain": [
       "['shamanth', 'g', 30, 28.4]"
      ]
     },
     "execution_count": 231,
     "metadata": {},
     "output_type": "execute_result"
    }
   ],
   "source": [
    "l[0:4]"
   ]
  },
  {
   "cell_type": "code",
   "execution_count": 232,
   "id": "24053ca7",
   "metadata": {},
   "outputs": [
    {
     "data": {
      "text/plain": [
       "[(6+4j), 28.4, 30, 'g', 'shamanth']"
      ]
     },
     "execution_count": 232,
     "metadata": {},
     "output_type": "execute_result"
    }
   ],
   "source": [
    "l[::-1]"
   ]
  },
  {
   "cell_type": "code",
   "execution_count": 233,
   "id": "e31426c8",
   "metadata": {},
   "outputs": [
    {
     "data": {
      "text/plain": [
       "[(6+4j)]"
      ]
     },
     "execution_count": 233,
     "metadata": {},
     "output_type": "execute_result"
    }
   ],
   "source": [
    "l[-1:6]"
   ]
  },
  {
   "cell_type": "code",
   "execution_count": 236,
   "id": "ae880232",
   "metadata": {},
   "outputs": [
    {
     "data": {
      "text/plain": [
       "'h'"
      ]
     },
     "execution_count": 236,
     "metadata": {},
     "output_type": "execute_result"
    }
   ],
   "source": [
    "l[0][1]"
   ]
  },
  {
   "cell_type": "code",
   "execution_count": 237,
   "id": "5a208aad",
   "metadata": {},
   "outputs": [
    {
     "data": {
      "text/plain": [
       "str"
      ]
     },
     "execution_count": 237,
     "metadata": {},
     "output_type": "execute_result"
    }
   ],
   "source": [
    "type(l[0])"
   ]
  },
  {
   "cell_type": "code",
   "execution_count": 238,
   "id": "0370d337",
   "metadata": {},
   "outputs": [
    {
     "data": {
      "text/plain": [
       "complex"
      ]
     },
     "execution_count": 238,
     "metadata": {},
     "output_type": "execute_result"
    }
   ],
   "source": [
    "type(l[4])"
   ]
  },
  {
   "cell_type": "code",
   "execution_count": 240,
   "id": "44a10a3f",
   "metadata": {},
   "outputs": [
    {
     "data": {
      "text/plain": [
       "(6+4j)"
      ]
     },
     "execution_count": 240,
     "metadata": {},
     "output_type": "execute_result"
    }
   ],
   "source": [
    "l[4]"
   ]
  },
  {
   "cell_type": "code",
   "execution_count": 242,
   "id": "493ab3e2",
   "metadata": {},
   "outputs": [
    {
     "data": {
      "text/plain": [
       "6.0"
      ]
     },
     "execution_count": 242,
     "metadata": {},
     "output_type": "execute_result"
    }
   ],
   "source": [
    "l[4].real"
   ]
  },
  {
   "cell_type": "code",
   "execution_count": 243,
   "id": "413d3177",
   "metadata": {},
   "outputs": [],
   "source": [
    "l1 = ['sudh','kumar',4356]\n",
    "l2 = ['xyz','pqr',546.567]"
   ]
  },
  {
   "cell_type": "code",
   "execution_count": 244,
   "id": "70f0fa37",
   "metadata": {},
   "outputs": [
    {
     "data": {
      "text/plain": [
       "['sudh', 'kumar', 4356, 'xyz', 'pqr', 546.567]"
      ]
     },
     "execution_count": 244,
     "metadata": {},
     "output_type": "execute_result"
    }
   ],
   "source": [
    "l1 + l2"
   ]
  },
  {
   "cell_type": "code",
   "execution_count": 247,
   "id": "1fe4e1c5",
   "metadata": {},
   "outputs": [
    {
     "data": {
      "text/plain": [
       "['sudh', 'kumar', 4356, 'sudh']"
      ]
     },
     "execution_count": 247,
     "metadata": {},
     "output_type": "execute_result"
    }
   ],
   "source": [
    "l1 + ['sudh']                                               "
   ]
  },
  {
   "cell_type": "code",
   "execution_count": 248,
   "id": "d6fad65e",
   "metadata": {},
   "outputs": [
    {
     "data": {
      "text/plain": [
       "['sudh', 'kumar', 4356, 'sudh', 'kumar', 4356]"
      ]
     },
     "execution_count": 248,
     "metadata": {},
     "output_type": "execute_result"
    }
   ],
   "source": [
    "l1 * 2"
   ]
  },
  {
   "cell_type": "code",
   "execution_count": 249,
   "id": "cbe7ec86",
   "metadata": {},
   "outputs": [
    {
     "data": {
      "text/plain": [
       "['xyz',\n",
       " 'pqr',\n",
       " 546.567,\n",
       " 'xyz',\n",
       " 'pqr',\n",
       " 546.567,\n",
       " 'xyz',\n",
       " 'pqr',\n",
       " 546.567,\n",
       " 'xyz',\n",
       " 'pqr',\n",
       " 546.567]"
      ]
     },
     "execution_count": 249,
     "metadata": {},
     "output_type": "execute_result"
    }
   ],
   "source": [
    "l2 * 4"
   ]
  },
  {
   "cell_type": "code",
   "execution_count": 250,
   "id": "69e1ba6b",
   "metadata": {},
   "outputs": [],
   "source": [
    "l1[0] = 'push'"
   ]
  },
  {
   "cell_type": "code",
   "execution_count": 251,
   "id": "a3ee7624",
   "metadata": {},
   "outputs": [
    {
     "data": {
      "text/plain": [
       "['push', 'kumar', 4356]"
      ]
     },
     "execution_count": 251,
     "metadata": {},
     "output_type": "execute_result"
    }
   ],
   "source": [
    "l1"
   ]
  },
  {
   "cell_type": "code",
   "execution_count": 252,
   "id": "a4435130",
   "metadata": {},
   "outputs": [],
   "source": [
    "h = \"harshith\""
   ]
  },
  {
   "cell_type": "code",
   "execution_count": 253,
   "id": "3b2db557",
   "metadata": {},
   "outputs": [
    {
     "data": {
      "text/plain": [
       "'h'"
      ]
     },
     "execution_count": 253,
     "metadata": {},
     "output_type": "execute_result"
    }
   ],
   "source": [
    "h[0]"
   ]
  },
  {
   "cell_type": "code",
   "execution_count": 254,
   "id": "0bc89af6",
   "metadata": {},
   "outputs": [
    {
     "ename": "NameError",
     "evalue": "name 'o' is not defined",
     "output_type": "error",
     "traceback": [
      "\u001b[1;31m---------------------------------------------------------------------------\u001b[0m",
      "\u001b[1;31mNameError\u001b[0m                                 Traceback (most recent call last)",
      "\u001b[1;32mC:\\Users\\PD1D7~1.SUR\\AppData\\Local\\Temp/ipykernel_7428/1648592771.py\u001b[0m in \u001b[0;36m<module>\u001b[1;34m\u001b[0m\n\u001b[1;32m----> 1\u001b[1;33m \u001b[0mh\u001b[0m\u001b[1;33m[\u001b[0m\u001b[0mo\u001b[0m\u001b[1;33m]\u001b[0m \u001b[1;33m=\u001b[0m \u001b[1;34m'v'\u001b[0m\u001b[1;33m\u001b[0m\u001b[1;33m\u001b[0m\u001b[0m\n\u001b[0m",
      "\u001b[1;31mNameError\u001b[0m: name 'o' is not defined"
     ]
    }
   ],
   "source": [
    "h[o] = 'v'                                                        #strings are immuatble "
   ]
  },
  {
   "cell_type": "code",
   "execution_count": 255,
   "id": "e230c2b6",
   "metadata": {},
   "outputs": [
    {
     "data": {
      "text/plain": [
       "'varsvitv'"
      ]
     },
     "execution_count": 255,
     "metadata": {},
     "output_type": "execute_result"
    }
   ],
   "source": [
    "h.replace('h','v')                                                 # this is a function. this will not replace the memory but will reploace it with the help of function and stores seperately not changing the original string "
   ]
  },
  {
   "cell_type": "code",
   "execution_count": 256,
   "id": "01b2c334",
   "metadata": {},
   "outputs": [
    {
     "data": {
      "text/plain": [
       "['push', 'kumar', 4356]"
      ]
     },
     "execution_count": 256,
     "metadata": {},
     "output_type": "execute_result"
    }
   ],
   "source": [
    "l1"
   ]
  },
  {
   "cell_type": "code",
   "execution_count": 257,
   "id": "d5bb16d2",
   "metadata": {},
   "outputs": [
    {
     "data": {
      "text/plain": [
       "3"
      ]
     },
     "execution_count": 257,
     "metadata": {},
     "output_type": "execute_result"
    }
   ],
   "source": [
    "len(l1)"
   ]
  },
  {
   "cell_type": "code",
   "execution_count": 258,
   "id": "10c7e889",
   "metadata": {},
   "outputs": [
    {
     "data": {
      "text/plain": [
       "True"
      ]
     },
     "execution_count": 258,
     "metadata": {},
     "output_type": "execute_result"
    }
   ],
   "source": [
    "\"kumar\" in l1"
   ]
  },
  {
   "cell_type": "code",
   "execution_count": 259,
   "id": "f9d9a02b",
   "metadata": {},
   "outputs": [
    {
     "data": {
      "text/plain": [
       "False"
      ]
     },
     "execution_count": 259,
     "metadata": {},
     "output_type": "execute_result"
    }
   ],
   "source": [
    "354 in l1"
   ]
  },
  {
   "cell_type": "code",
   "execution_count": 260,
   "id": "ee03acca",
   "metadata": {},
   "outputs": [],
   "source": [
    "l2 = ['okay', 'kumar', 78,45, 5.67, True, 9.13j]"
   ]
  },
  {
   "cell_type": "code",
   "execution_count": 263,
   "id": "86ee033f",
   "metadata": {},
   "outputs": [
    {
     "data": {
      "text/plain": [
       "[9.13j]"
      ]
     },
     "execution_count": 263,
     "metadata": {},
     "output_type": "execute_result"
    }
   ],
   "source": [
    "l2[-1:5:-1]"
   ]
  },
  {
   "cell_type": "code",
   "execution_count": 264,
   "id": "aae83dea",
   "metadata": {},
   "outputs": [
    {
     "data": {
      "text/plain": [
       "['okay', 'kumar', 78, 45, 5.67, True, 9.13j]"
      ]
     },
     "execution_count": 264,
     "metadata": {},
     "output_type": "execute_result"
    }
   ],
   "source": [
    "l2 "
   ]
  },
  {
   "cell_type": "code",
   "execution_count": 265,
   "id": "a0c686a2",
   "metadata": {},
   "outputs": [],
   "source": [
    "l2.append('anil')"
   ]
  },
  {
   "cell_type": "code",
   "execution_count": 266,
   "id": "bd8d11f9",
   "metadata": {},
   "outputs": [
    {
     "data": {
      "text/plain": [
       "['okay', 'kumar', 78, 45, 5.67, True, 9.13j, 'anil']"
      ]
     },
     "execution_count": 266,
     "metadata": {},
     "output_type": "execute_result"
    }
   ],
   "source": [
    "l2"
   ]
  },
  {
   "cell_type": "code",
   "execution_count": 268,
   "id": "dba3c1bd",
   "metadata": {},
   "outputs": [
    {
     "data": {
      "text/plain": [
       "'anil'"
      ]
     },
     "execution_count": 268,
     "metadata": {},
     "output_type": "execute_result"
    }
   ],
   "source": [
    "l2.pop()"
   ]
  },
  {
   "cell_type": "code",
   "execution_count": 270,
   "id": "7808a5bf",
   "metadata": {},
   "outputs": [
    {
     "data": {
      "text/plain": [
       "45"
      ]
     },
     "execution_count": 270,
     "metadata": {},
     "output_type": "execute_result"
    }
   ],
   "source": [
    "l2.pop(3)"
   ]
  },
  {
   "cell_type": "code",
   "execution_count": 271,
   "id": "80b06494",
   "metadata": {},
   "outputs": [],
   "source": [
    "l2.insert(1,'xyz')"
   ]
  },
  {
   "cell_type": "code",
   "execution_count": 272,
   "id": "c2bc86a4",
   "metadata": {},
   "outputs": [
    {
     "data": {
      "text/plain": [
       "['okay', 'xyz', 'kumar', 78, 5.67, True]"
      ]
     },
     "execution_count": 272,
     "metadata": {},
     "output_type": "execute_result"
    }
   ],
   "source": [
    "l2"
   ]
  },
  {
   "cell_type": "code",
   "execution_count": 273,
   "id": "a1f326d0",
   "metadata": {},
   "outputs": [],
   "source": [
    "l2.insert(3,[45,67,89,'ku'])"
   ]
  },
  {
   "cell_type": "code",
   "execution_count": 274,
   "id": "a1f826fe",
   "metadata": {},
   "outputs": [
    {
     "data": {
      "text/plain": [
       "['okay', 'xyz', 'kumar', [45, 67, 89, 'ku'], 78, 5.67, True]"
      ]
     },
     "execution_count": 274,
     "metadata": {},
     "output_type": "execute_result"
    }
   ],
   "source": [
    "l2"
   ]
  },
  {
   "cell_type": "code",
   "execution_count": 275,
   "id": "2d3757b8",
   "metadata": {},
   "outputs": [
    {
     "data": {
      "text/plain": [
       "['okay', 'xyz', 'kumar', [45, 67, 89, 'ku'], 78, 5.67, True]"
      ]
     },
     "execution_count": 275,
     "metadata": {},
     "output_type": "execute_result"
    }
   ],
   "source": [
    "l2"
   ]
  },
  {
   "cell_type": "code",
   "execution_count": 276,
   "id": "0ff2c776",
   "metadata": {},
   "outputs": [
    {
     "data": {
      "text/plain": [
       "[True, 5.67, 78, [45, 67, 89, 'ku'], 'kumar', 'xyz', 'okay']"
      ]
     },
     "execution_count": 276,
     "metadata": {},
     "output_type": "execute_result"
    }
   ],
   "source": [
    "l2[::-1]"
   ]
  },
  {
   "cell_type": "code",
   "execution_count": 278,
   "id": "48db915c",
   "metadata": {},
   "outputs": [],
   "source": [
    "l2.reverse()"
   ]
  },
  {
   "cell_type": "code",
   "execution_count": 280,
   "id": "9c5c40d0",
   "metadata": {},
   "outputs": [
    {
     "data": {
      "text/plain": [
       "['okay', 'xyz', 'kumar', [45, 67, 89, 'ku'], 78, 5.67, True]"
      ]
     },
     "execution_count": 280,
     "metadata": {},
     "output_type": "execute_result"
    }
   ],
   "source": [
    "l2"
   ]
  },
  {
   "cell_type": "code",
   "execution_count": 281,
   "id": "6a7f8752",
   "metadata": {},
   "outputs": [],
   "source": [
    "l2.reverse()"
   ]
  },
  {
   "cell_type": "code",
   "execution_count": 282,
   "id": "74d1aca2",
   "metadata": {},
   "outputs": [
    {
     "data": {
      "text/plain": [
       "[True, 5.67, 78, [45, 67, 89, 'ku'], 'kumar', 'xyz', 'okay']"
      ]
     },
     "execution_count": 282,
     "metadata": {},
     "output_type": "execute_result"
    }
   ],
   "source": [
    "l2"
   ]
  },
  {
   "cell_type": "code",
   "execution_count": 283,
   "id": "dd362df2",
   "metadata": {},
   "outputs": [
    {
     "data": {
      "text/plain": [
       "['push', 'kumar', 4356]"
      ]
     },
     "execution_count": 283,
     "metadata": {},
     "output_type": "execute_result"
    }
   ],
   "source": [
    "l1"
   ]
  },
  {
   "cell_type": "code",
   "execution_count": 284,
   "id": "4bd1dc21",
   "metadata": {},
   "outputs": [
    {
     "data": {
      "text/plain": [
       "[True, 5.67, 78, [45, 67, 89, 'ku'], 'kumar', 'xyz', 'okay']"
      ]
     },
     "execution_count": 284,
     "metadata": {},
     "output_type": "execute_result"
    }
   ],
   "source": [
    "l2"
   ]
  },
  {
   "cell_type": "code",
   "execution_count": 285,
   "id": "826fc8a6",
   "metadata": {},
   "outputs": [
    {
     "data": {
      "text/plain": [
       "67"
      ]
     },
     "execution_count": 285,
     "metadata": {},
     "output_type": "execute_result"
    }
   ],
   "source": [
    "l2[3][1]"
   ]
  },
  {
   "cell_type": "code",
   "execution_count": 286,
   "id": "e6752247",
   "metadata": {},
   "outputs": [
    {
     "data": {
      "text/plain": [
       "[True, 5.67, 78, [45, 67, 89, 'ku'], 'kumar', 'xyz', 'okay']"
      ]
     },
     "execution_count": 286,
     "metadata": {},
     "output_type": "execute_result"
    }
   ],
   "source": [
    "l2"
   ]
  },
  {
   "cell_type": "code",
   "execution_count": 288,
   "id": "97089827",
   "metadata": {},
   "outputs": [
    {
     "data": {
      "text/plain": [
       "'shamanath'"
      ]
     },
     "execution_count": 288,
     "metadata": {},
     "output_type": "execute_result"
    }
   ],
   "source": [
    "s"
   ]
  },
  {
   "cell_type": "code",
   "execution_count": 291,
   "id": "3eab9ed2",
   "metadata": {},
   "outputs": [
    {
     "data": {
      "text/plain": [
       "3"
      ]
     },
     "execution_count": 291,
     "metadata": {},
     "output_type": "execute_result"
    }
   ],
   "source": [
    "s.count('a')"
   ]
  },
  {
   "cell_type": "code",
   "execution_count": 293,
   "id": "edbb644e",
   "metadata": {},
   "outputs": [
    {
     "data": {
      "text/plain": [
       "1"
      ]
     },
     "execution_count": 293,
     "metadata": {},
     "output_type": "execute_result"
    }
   ],
   "source": [
    "l2.count('xyz')"
   ]
  },
  {
   "cell_type": "code",
   "execution_count": 295,
   "id": "e1110e3f",
   "metadata": {},
   "outputs": [
    {
     "data": {
      "text/plain": [
       "1"
      ]
     },
     "execution_count": 295,
     "metadata": {},
     "output_type": "execute_result"
    }
   ],
   "source": [
    "l2.count(78)"
   ]
  },
  {
   "cell_type": "code",
   "execution_count": 296,
   "id": "7042ddd3",
   "metadata": {},
   "outputs": [],
   "source": [
    "l2.append([35,46,78])"
   ]
  },
  {
   "cell_type": "code",
   "execution_count": 297,
   "id": "de188c5a",
   "metadata": {},
   "outputs": [
    {
     "data": {
      "text/plain": [
       "[True, 5.67, 78, [45, 67, 89, 'ku'], 'kumar', 'xyz', 'okay', [35, 46, 78]]"
      ]
     },
     "execution_count": 297,
     "metadata": {},
     "output_type": "execute_result"
    }
   ],
   "source": [
    "l2"
   ]
  },
  {
   "cell_type": "code",
   "execution_count": 298,
   "id": "e1a063a5",
   "metadata": {},
   "outputs": [],
   "source": [
    "l2.extend([67,78,99,'push'])"
   ]
  },
  {
   "cell_type": "code",
   "execution_count": 299,
   "id": "1a389344",
   "metadata": {},
   "outputs": [
    {
     "data": {
      "text/plain": [
       "[True,\n",
       " 5.67,\n",
       " 78,\n",
       " [45, 67, 89, 'ku'],\n",
       " 'kumar',\n",
       " 'xyz',\n",
       " 'okay',\n",
       " [35, 46, 78],\n",
       " 67,\n",
       " 78,\n",
       " 99,\n",
       " 'push']"
      ]
     },
     "execution_count": 299,
     "metadata": {},
     "output_type": "execute_result"
    }
   ],
   "source": [
    "l2"
   ]
  },
  {
   "cell_type": "code",
   "execution_count": 300,
   "id": "f675e7d2",
   "metadata": {},
   "outputs": [],
   "source": [
    "l2.extend('p')"
   ]
  },
  {
   "cell_type": "code",
   "execution_count": 301,
   "id": "b47fcafd",
   "metadata": {},
   "outputs": [
    {
     "data": {
      "text/plain": [
       "[True,\n",
       " 5.67,\n",
       " 78,\n",
       " [45, 67, 89, 'ku'],\n",
       " 'kumar',\n",
       " 'xyz',\n",
       " 'okay',\n",
       " [35, 46, 78],\n",
       " 67,\n",
       " 78,\n",
       " 99,\n",
       " 'push',\n",
       " 'p']"
      ]
     },
     "execution_count": 301,
     "metadata": {},
     "output_type": "execute_result"
    }
   ],
   "source": [
    "l2"
   ]
  },
  {
   "cell_type": "code",
   "execution_count": 302,
   "id": "03b28a78",
   "metadata": {},
   "outputs": [
    {
     "ename": "TypeError",
     "evalue": "'int' object is not iterable",
     "output_type": "error",
     "traceback": [
      "\u001b[1;31m---------------------------------------------------------------------------\u001b[0m",
      "\u001b[1;31mTypeError\u001b[0m                                 Traceback (most recent call last)",
      "\u001b[1;32mC:\\Users\\PD1D7~1.SUR\\AppData\\Local\\Temp/ipykernel_7428/2480967957.py\u001b[0m in \u001b[0;36m<module>\u001b[1;34m\u001b[0m\n\u001b[1;32m----> 1\u001b[1;33m \u001b[0ml2\u001b[0m\u001b[1;33m.\u001b[0m\u001b[0mextend\u001b[0m\u001b[1;33m(\u001b[0m\u001b[1;36m123\u001b[0m\u001b[1;33m)\u001b[0m\u001b[1;33m\u001b[0m\u001b[1;33m\u001b[0m\u001b[0m\n\u001b[0m",
      "\u001b[1;31mTypeError\u001b[0m: 'int' object is not iterable"
     ]
    }
   ],
   "source": [
    "l2.extend(123)"
   ]
  },
  {
   "cell_type": "code",
   "execution_count": 303,
   "id": "7d036914",
   "metadata": {},
   "outputs": [
    {
     "data": {
      "text/plain": [
       "[True,\n",
       " 5.67,\n",
       " 78,\n",
       " [45, 67, 89, 'ku'],\n",
       " 'kumar',\n",
       " 'xyz',\n",
       " 'okay',\n",
       " [35, 46, 78],\n",
       " 67,\n",
       " 78,\n",
       " 99,\n",
       " 'push',\n",
       " 'p']"
      ]
     },
     "execution_count": 303,
     "metadata": {},
     "output_type": "execute_result"
    }
   ],
   "source": [
    "l2"
   ]
  },
  {
   "cell_type": "code",
   "execution_count": null,
   "id": "036bc545",
   "metadata": {},
   "outputs": [],
   "source": []
  }
 ],
 "metadata": {
  "kernelspec": {
   "display_name": "Python 3 (ipykernel)",
   "language": "python",
   "name": "python3"
  },
  "language_info": {
   "codemirror_mode": {
    "name": "ipython",
    "version": 3
   },
   "file_extension": ".py",
   "mimetype": "text/x-python",
   "name": "python",
   "nbconvert_exporter": "python",
   "pygments_lexer": "ipython3",
   "version": "3.9.7"
  }
 },
 "nbformat": 4,
 "nbformat_minor": 5
}
